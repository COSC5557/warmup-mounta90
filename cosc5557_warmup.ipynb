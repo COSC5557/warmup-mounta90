{
  "nbformat": 4,
  "nbformat_minor": 0,
  "metadata": {
    "colab": {
      "provenance": []
    },
    "kernelspec": {
      "name": "python3",
      "display_name": "Python 3"
    },
    "language_info": {
      "name": "python"
    }
  },
  "cells": [
    {
      "cell_type": "markdown",
      "source": [
        "# COSC 5557 Warm-Up (Almountassir)\n",
        "\n",
        "* Import the wine quality dataset : https://archive.ics.uci.edu/dataset/186/wine+quality\n",
        "* Predict the wine quality (as a numerical value) through a **regression** model.\n",
        "* Predict the wine quality (as a class value) through a **classification** model.\n",
        "\n",
        "**RESULTS SUMMARY**\n",
        "* The *regression* model resulted in a **0.58 Mean Squared Error** loss value.\n",
        "* The *classification* model resulted in a (maximum) **training accuracy score of 51.38%** AND a (maximum) **testing accuracy score of 16.68%**.\n"
      ],
      "metadata": {
        "id": "aEqyyqS_cQ2Y"
      }
    },
    {
      "cell_type": "markdown",
      "source": [
        "---\n",
        "# Loading the dataset"
      ],
      "metadata": {
        "id": "tiGNWGz8972J"
      }
    },
    {
      "cell_type": "code",
      "source": [
        "import pandas as pd\n",
        "\n",
        "red_wine_quality_df = pd.read_csv('winequality-red.csv')"
      ],
      "metadata": {
        "id": "rh01WGdk-BIV"
      },
      "execution_count": null,
      "outputs": []
    },
    {
      "cell_type": "markdown",
      "source": [
        "---\n",
        "# Observe the dataset"
      ],
      "metadata": {
        "id": "wwiY_guM-OW_"
      }
    },
    {
      "cell_type": "code",
      "source": [
        "red_wine_quality_df.head(5)"
      ],
      "metadata": {
        "colab": {
          "base_uri": "https://localhost:8080/",
          "height": 223
        },
        "id": "p5bmSS1j-R8J",
        "outputId": "2b93977c-f127-4165-ce0f-65e83c2ff460"
      },
      "execution_count": null,
      "outputs": [
        {
          "output_type": "execute_result",
          "data": {
            "text/plain": [
              "  fixed acidity;\"volatile acidity\";\"citric acid\";\"residual sugar\";\"chlorides\";\"free sulfur dioxide\";\"total sulfur dioxide\";\"density\";\"pH\";\"sulphates\";\"alcohol\";\"quality\"\n",
              "0   7.4;0.7;0;1.9;0.076;11;34;0.9978;3.51;0.56;9.4;5                                                                                                                     \n",
              "1   7.8;0.88;0;2.6;0.098;25;67;0.9968;3.2;0.68;9.8;5                                                                                                                     \n",
              "2  7.8;0.76;0.04;2.3;0.092;15;54;0.997;3.26;0.65;...                                                                                                                     \n",
              "3  11.2;0.28;0.56;1.9;0.075;17;60;0.998;3.16;0.58...                                                                                                                     \n",
              "4   7.4;0.7;0;1.9;0.076;11;34;0.9978;3.51;0.56;9.4;5                                                                                                                     "
            ],
            "text/html": [
              "\n",
              "  <div id=\"df-71574059-876c-45d8-897d-4c3ef9496c43\" class=\"colab-df-container\">\n",
              "    <div>\n",
              "<style scoped>\n",
              "    .dataframe tbody tr th:only-of-type {\n",
              "        vertical-align: middle;\n",
              "    }\n",
              "\n",
              "    .dataframe tbody tr th {\n",
              "        vertical-align: top;\n",
              "    }\n",
              "\n",
              "    .dataframe thead th {\n",
              "        text-align: right;\n",
              "    }\n",
              "</style>\n",
              "<table border=\"1\" class=\"dataframe\">\n",
              "  <thead>\n",
              "    <tr style=\"text-align: right;\">\n",
              "      <th></th>\n",
              "      <th>fixed acidity;\"volatile acidity\";\"citric acid\";\"residual sugar\";\"chlorides\";\"free sulfur dioxide\";\"total sulfur dioxide\";\"density\";\"pH\";\"sulphates\";\"alcohol\";\"quality\"</th>\n",
              "    </tr>\n",
              "  </thead>\n",
              "  <tbody>\n",
              "    <tr>\n",
              "      <th>0</th>\n",
              "      <td>7.4;0.7;0;1.9;0.076;11;34;0.9978;3.51;0.56;9.4;5</td>\n",
              "    </tr>\n",
              "    <tr>\n",
              "      <th>1</th>\n",
              "      <td>7.8;0.88;0;2.6;0.098;25;67;0.9968;3.2;0.68;9.8;5</td>\n",
              "    </tr>\n",
              "    <tr>\n",
              "      <th>2</th>\n",
              "      <td>7.8;0.76;0.04;2.3;0.092;15;54;0.997;3.26;0.65;...</td>\n",
              "    </tr>\n",
              "    <tr>\n",
              "      <th>3</th>\n",
              "      <td>11.2;0.28;0.56;1.9;0.075;17;60;0.998;3.16;0.58...</td>\n",
              "    </tr>\n",
              "    <tr>\n",
              "      <th>4</th>\n",
              "      <td>7.4;0.7;0;1.9;0.076;11;34;0.9978;3.51;0.56;9.4;5</td>\n",
              "    </tr>\n",
              "  </tbody>\n",
              "</table>\n",
              "</div>\n",
              "    <div class=\"colab-df-buttons\">\n",
              "\n",
              "  <div class=\"colab-df-container\">\n",
              "    <button class=\"colab-df-convert\" onclick=\"convertToInteractive('df-71574059-876c-45d8-897d-4c3ef9496c43')\"\n",
              "            title=\"Convert this dataframe to an interactive table.\"\n",
              "            style=\"display:none;\">\n",
              "\n",
              "  <svg xmlns=\"http://www.w3.org/2000/svg\" height=\"24px\" viewBox=\"0 -960 960 960\">\n",
              "    <path d=\"M120-120v-720h720v720H120Zm60-500h600v-160H180v160Zm220 220h160v-160H400v160Zm0 220h160v-160H400v160ZM180-400h160v-160H180v160Zm440 0h160v-160H620v160ZM180-180h160v-160H180v160Zm440 0h160v-160H620v160Z\"/>\n",
              "  </svg>\n",
              "    </button>\n",
              "\n",
              "  <style>\n",
              "    .colab-df-container {\n",
              "      display:flex;\n",
              "      gap: 12px;\n",
              "    }\n",
              "\n",
              "    .colab-df-convert {\n",
              "      background-color: #E8F0FE;\n",
              "      border: none;\n",
              "      border-radius: 50%;\n",
              "      cursor: pointer;\n",
              "      display: none;\n",
              "      fill: #1967D2;\n",
              "      height: 32px;\n",
              "      padding: 0 0 0 0;\n",
              "      width: 32px;\n",
              "    }\n",
              "\n",
              "    .colab-df-convert:hover {\n",
              "      background-color: #E2EBFA;\n",
              "      box-shadow: 0px 1px 2px rgba(60, 64, 67, 0.3), 0px 1px 3px 1px rgba(60, 64, 67, 0.15);\n",
              "      fill: #174EA6;\n",
              "    }\n",
              "\n",
              "    .colab-df-buttons div {\n",
              "      margin-bottom: 4px;\n",
              "    }\n",
              "\n",
              "    [theme=dark] .colab-df-convert {\n",
              "      background-color: #3B4455;\n",
              "      fill: #D2E3FC;\n",
              "    }\n",
              "\n",
              "    [theme=dark] .colab-df-convert:hover {\n",
              "      background-color: #434B5C;\n",
              "      box-shadow: 0px 1px 3px 1px rgba(0, 0, 0, 0.15);\n",
              "      filter: drop-shadow(0px 1px 2px rgba(0, 0, 0, 0.3));\n",
              "      fill: #FFFFFF;\n",
              "    }\n",
              "  </style>\n",
              "\n",
              "    <script>\n",
              "      const buttonEl =\n",
              "        document.querySelector('#df-71574059-876c-45d8-897d-4c3ef9496c43 button.colab-df-convert');\n",
              "      buttonEl.style.display =\n",
              "        google.colab.kernel.accessAllowed ? 'block' : 'none';\n",
              "\n",
              "      async function convertToInteractive(key) {\n",
              "        const element = document.querySelector('#df-71574059-876c-45d8-897d-4c3ef9496c43');\n",
              "        const dataTable =\n",
              "          await google.colab.kernel.invokeFunction('convertToInteractive',\n",
              "                                                    [key], {});\n",
              "        if (!dataTable) return;\n",
              "\n",
              "        const docLinkHtml = 'Like what you see? Visit the ' +\n",
              "          '<a target=\"_blank\" href=https://colab.research.google.com/notebooks/data_table.ipynb>data table notebook</a>'\n",
              "          + ' to learn more about interactive tables.';\n",
              "        element.innerHTML = '';\n",
              "        dataTable['output_type'] = 'display_data';\n",
              "        await google.colab.output.renderOutput(dataTable, element);\n",
              "        const docLink = document.createElement('div');\n",
              "        docLink.innerHTML = docLinkHtml;\n",
              "        element.appendChild(docLink);\n",
              "      }\n",
              "    </script>\n",
              "  </div>\n",
              "\n",
              "\n",
              "<div id=\"df-f7149a62-96d9-48db-b37b-cfaee7573e50\">\n",
              "  <button class=\"colab-df-quickchart\" onclick=\"quickchart('df-f7149a62-96d9-48db-b37b-cfaee7573e50')\"\n",
              "            title=\"Suggest charts\"\n",
              "            style=\"display:none;\">\n",
              "\n",
              "<svg xmlns=\"http://www.w3.org/2000/svg\" height=\"24px\"viewBox=\"0 0 24 24\"\n",
              "     width=\"24px\">\n",
              "    <g>\n",
              "        <path d=\"M19 3H5c-1.1 0-2 .9-2 2v14c0 1.1.9 2 2 2h14c1.1 0 2-.9 2-2V5c0-1.1-.9-2-2-2zM9 17H7v-7h2v7zm4 0h-2V7h2v10zm4 0h-2v-4h2v4z\"/>\n",
              "    </g>\n",
              "</svg>\n",
              "  </button>\n",
              "\n",
              "<style>\n",
              "  .colab-df-quickchart {\n",
              "      --bg-color: #E8F0FE;\n",
              "      --fill-color: #1967D2;\n",
              "      --hover-bg-color: #E2EBFA;\n",
              "      --hover-fill-color: #174EA6;\n",
              "      --disabled-fill-color: #AAA;\n",
              "      --disabled-bg-color: #DDD;\n",
              "  }\n",
              "\n",
              "  [theme=dark] .colab-df-quickchart {\n",
              "      --bg-color: #3B4455;\n",
              "      --fill-color: #D2E3FC;\n",
              "      --hover-bg-color: #434B5C;\n",
              "      --hover-fill-color: #FFFFFF;\n",
              "      --disabled-bg-color: #3B4455;\n",
              "      --disabled-fill-color: #666;\n",
              "  }\n",
              "\n",
              "  .colab-df-quickchart {\n",
              "    background-color: var(--bg-color);\n",
              "    border: none;\n",
              "    border-radius: 50%;\n",
              "    cursor: pointer;\n",
              "    display: none;\n",
              "    fill: var(--fill-color);\n",
              "    height: 32px;\n",
              "    padding: 0;\n",
              "    width: 32px;\n",
              "  }\n",
              "\n",
              "  .colab-df-quickchart:hover {\n",
              "    background-color: var(--hover-bg-color);\n",
              "    box-shadow: 0 1px 2px rgba(60, 64, 67, 0.3), 0 1px 3px 1px rgba(60, 64, 67, 0.15);\n",
              "    fill: var(--button-hover-fill-color);\n",
              "  }\n",
              "\n",
              "  .colab-df-quickchart-complete:disabled,\n",
              "  .colab-df-quickchart-complete:disabled:hover {\n",
              "    background-color: var(--disabled-bg-color);\n",
              "    fill: var(--disabled-fill-color);\n",
              "    box-shadow: none;\n",
              "  }\n",
              "\n",
              "  .colab-df-spinner {\n",
              "    border: 2px solid var(--fill-color);\n",
              "    border-color: transparent;\n",
              "    border-bottom-color: var(--fill-color);\n",
              "    animation:\n",
              "      spin 1s steps(1) infinite;\n",
              "  }\n",
              "\n",
              "  @keyframes spin {\n",
              "    0% {\n",
              "      border-color: transparent;\n",
              "      border-bottom-color: var(--fill-color);\n",
              "      border-left-color: var(--fill-color);\n",
              "    }\n",
              "    20% {\n",
              "      border-color: transparent;\n",
              "      border-left-color: var(--fill-color);\n",
              "      border-top-color: var(--fill-color);\n",
              "    }\n",
              "    30% {\n",
              "      border-color: transparent;\n",
              "      border-left-color: var(--fill-color);\n",
              "      border-top-color: var(--fill-color);\n",
              "      border-right-color: var(--fill-color);\n",
              "    }\n",
              "    40% {\n",
              "      border-color: transparent;\n",
              "      border-right-color: var(--fill-color);\n",
              "      border-top-color: var(--fill-color);\n",
              "    }\n",
              "    60% {\n",
              "      border-color: transparent;\n",
              "      border-right-color: var(--fill-color);\n",
              "    }\n",
              "    80% {\n",
              "      border-color: transparent;\n",
              "      border-right-color: var(--fill-color);\n",
              "      border-bottom-color: var(--fill-color);\n",
              "    }\n",
              "    90% {\n",
              "      border-color: transparent;\n",
              "      border-bottom-color: var(--fill-color);\n",
              "    }\n",
              "  }\n",
              "</style>\n",
              "\n",
              "  <script>\n",
              "    async function quickchart(key) {\n",
              "      const quickchartButtonEl =\n",
              "        document.querySelector('#' + key + ' button');\n",
              "      quickchartButtonEl.disabled = true;  // To prevent multiple clicks.\n",
              "      quickchartButtonEl.classList.add('colab-df-spinner');\n",
              "      try {\n",
              "        const charts = await google.colab.kernel.invokeFunction(\n",
              "            'suggestCharts', [key], {});\n",
              "      } catch (error) {\n",
              "        console.error('Error during call to suggestCharts:', error);\n",
              "      }\n",
              "      quickchartButtonEl.classList.remove('colab-df-spinner');\n",
              "      quickchartButtonEl.classList.add('colab-df-quickchart-complete');\n",
              "    }\n",
              "    (() => {\n",
              "      let quickchartButtonEl =\n",
              "        document.querySelector('#df-f7149a62-96d9-48db-b37b-cfaee7573e50 button');\n",
              "      quickchartButtonEl.style.display =\n",
              "        google.colab.kernel.accessAllowed ? 'block' : 'none';\n",
              "    })();\n",
              "  </script>\n",
              "</div>\n",
              "\n",
              "    </div>\n",
              "  </div>\n"
            ]
          },
          "metadata": {},
          "execution_count": 499
        }
      ]
    },
    {
      "cell_type": "code",
      "source": [
        "# displays (rows, columns)\n",
        "red_wine_quality_df.shape"
      ],
      "metadata": {
        "colab": {
          "base_uri": "https://localhost:8080/"
        },
        "id": "DXyGw-1n-Z34",
        "outputId": "fa55f78e-98aa-47bd-bb26-26f41789b889"
      },
      "execution_count": null,
      "outputs": [
        {
          "output_type": "execute_result",
          "data": {
            "text/plain": [
              "(1599, 1)"
            ]
          },
          "metadata": {},
          "execution_count": 500
        }
      ]
    },
    {
      "cell_type": "markdown",
      "source": [
        "---\n",
        "# Process the dataset\n",
        "\n",
        "*RESOURCE - https://youtu.be/5_QXMwezPJE?si=Q3U0Rs9h1wAS8jTI&t=230*\n",
        "\n",
        "We can observe that the column contains all the labels together.\n",
        "\n",
        "We also observe that the data values in the rows are all in one cell and not seperated.\n",
        "\n",
        "We want to instead seperate the data, to do that read the data with the `read_csv` method and indicate the value which the `sep` parameter takes. In our case it is `;`."
      ],
      "metadata": {
        "id": "hn4QAowG-dwk"
      }
    },
    {
      "cell_type": "code",
      "source": [
        "import pandas as pd\n",
        "\n",
        "# Read the data and seperate based on the ';' delimiter:\n",
        "red_wine_quality_df = pd.read_csv('winequality-red.csv', sep=';')\n",
        "\n",
        "# The data should be good to go now:\n",
        "red_wine_quality_df.head(3)"
      ],
      "metadata": {
        "colab": {
          "base_uri": "https://localhost:8080/",
          "height": 160
        },
        "id": "vYqI49mg-fQF",
        "outputId": "97fbf784-ce53-42b6-80fc-260de61d0be7"
      },
      "execution_count": null,
      "outputs": [
        {
          "output_type": "execute_result",
          "data": {
            "text/plain": [
              "   fixed acidity  volatile acidity  citric acid  residual sugar  chlorides  \\\n",
              "0            7.4              0.70         0.00             1.9      0.076   \n",
              "1            7.8              0.88         0.00             2.6      0.098   \n",
              "2            7.8              0.76         0.04             2.3      0.092   \n",
              "\n",
              "   free sulfur dioxide  total sulfur dioxide  density    pH  sulphates  \\\n",
              "0                 11.0                  34.0   0.9978  3.51       0.56   \n",
              "1                 25.0                  67.0   0.9968  3.20       0.68   \n",
              "2                 15.0                  54.0   0.9970  3.26       0.65   \n",
              "\n",
              "   alcohol  quality  \n",
              "0      9.4        5  \n",
              "1      9.8        5  \n",
              "2      9.8        5  "
            ],
            "text/html": [
              "\n",
              "  <div id=\"df-60e2e8db-3f8c-4b93-869c-25b616b09a99\" class=\"colab-df-container\">\n",
              "    <div>\n",
              "<style scoped>\n",
              "    .dataframe tbody tr th:only-of-type {\n",
              "        vertical-align: middle;\n",
              "    }\n",
              "\n",
              "    .dataframe tbody tr th {\n",
              "        vertical-align: top;\n",
              "    }\n",
              "\n",
              "    .dataframe thead th {\n",
              "        text-align: right;\n",
              "    }\n",
              "</style>\n",
              "<table border=\"1\" class=\"dataframe\">\n",
              "  <thead>\n",
              "    <tr style=\"text-align: right;\">\n",
              "      <th></th>\n",
              "      <th>fixed acidity</th>\n",
              "      <th>volatile acidity</th>\n",
              "      <th>citric acid</th>\n",
              "      <th>residual sugar</th>\n",
              "      <th>chlorides</th>\n",
              "      <th>free sulfur dioxide</th>\n",
              "      <th>total sulfur dioxide</th>\n",
              "      <th>density</th>\n",
              "      <th>pH</th>\n",
              "      <th>sulphates</th>\n",
              "      <th>alcohol</th>\n",
              "      <th>quality</th>\n",
              "    </tr>\n",
              "  </thead>\n",
              "  <tbody>\n",
              "    <tr>\n",
              "      <th>0</th>\n",
              "      <td>7.4</td>\n",
              "      <td>0.70</td>\n",
              "      <td>0.00</td>\n",
              "      <td>1.9</td>\n",
              "      <td>0.076</td>\n",
              "      <td>11.0</td>\n",
              "      <td>34.0</td>\n",
              "      <td>0.9978</td>\n",
              "      <td>3.51</td>\n",
              "      <td>0.56</td>\n",
              "      <td>9.4</td>\n",
              "      <td>5</td>\n",
              "    </tr>\n",
              "    <tr>\n",
              "      <th>1</th>\n",
              "      <td>7.8</td>\n",
              "      <td>0.88</td>\n",
              "      <td>0.00</td>\n",
              "      <td>2.6</td>\n",
              "      <td>0.098</td>\n",
              "      <td>25.0</td>\n",
              "      <td>67.0</td>\n",
              "      <td>0.9968</td>\n",
              "      <td>3.20</td>\n",
              "      <td>0.68</td>\n",
              "      <td>9.8</td>\n",
              "      <td>5</td>\n",
              "    </tr>\n",
              "    <tr>\n",
              "      <th>2</th>\n",
              "      <td>7.8</td>\n",
              "      <td>0.76</td>\n",
              "      <td>0.04</td>\n",
              "      <td>2.3</td>\n",
              "      <td>0.092</td>\n",
              "      <td>15.0</td>\n",
              "      <td>54.0</td>\n",
              "      <td>0.9970</td>\n",
              "      <td>3.26</td>\n",
              "      <td>0.65</td>\n",
              "      <td>9.8</td>\n",
              "      <td>5</td>\n",
              "    </tr>\n",
              "  </tbody>\n",
              "</table>\n",
              "</div>\n",
              "    <div class=\"colab-df-buttons\">\n",
              "\n",
              "  <div class=\"colab-df-container\">\n",
              "    <button class=\"colab-df-convert\" onclick=\"convertToInteractive('df-60e2e8db-3f8c-4b93-869c-25b616b09a99')\"\n",
              "            title=\"Convert this dataframe to an interactive table.\"\n",
              "            style=\"display:none;\">\n",
              "\n",
              "  <svg xmlns=\"http://www.w3.org/2000/svg\" height=\"24px\" viewBox=\"0 -960 960 960\">\n",
              "    <path d=\"M120-120v-720h720v720H120Zm60-500h600v-160H180v160Zm220 220h160v-160H400v160Zm0 220h160v-160H400v160ZM180-400h160v-160H180v160Zm440 0h160v-160H620v160ZM180-180h160v-160H180v160Zm440 0h160v-160H620v160Z\"/>\n",
              "  </svg>\n",
              "    </button>\n",
              "\n",
              "  <style>\n",
              "    .colab-df-container {\n",
              "      display:flex;\n",
              "      gap: 12px;\n",
              "    }\n",
              "\n",
              "    .colab-df-convert {\n",
              "      background-color: #E8F0FE;\n",
              "      border: none;\n",
              "      border-radius: 50%;\n",
              "      cursor: pointer;\n",
              "      display: none;\n",
              "      fill: #1967D2;\n",
              "      height: 32px;\n",
              "      padding: 0 0 0 0;\n",
              "      width: 32px;\n",
              "    }\n",
              "\n",
              "    .colab-df-convert:hover {\n",
              "      background-color: #E2EBFA;\n",
              "      box-shadow: 0px 1px 2px rgba(60, 64, 67, 0.3), 0px 1px 3px 1px rgba(60, 64, 67, 0.15);\n",
              "      fill: #174EA6;\n",
              "    }\n",
              "\n",
              "    .colab-df-buttons div {\n",
              "      margin-bottom: 4px;\n",
              "    }\n",
              "\n",
              "    [theme=dark] .colab-df-convert {\n",
              "      background-color: #3B4455;\n",
              "      fill: #D2E3FC;\n",
              "    }\n",
              "\n",
              "    [theme=dark] .colab-df-convert:hover {\n",
              "      background-color: #434B5C;\n",
              "      box-shadow: 0px 1px 3px 1px rgba(0, 0, 0, 0.15);\n",
              "      filter: drop-shadow(0px 1px 2px rgba(0, 0, 0, 0.3));\n",
              "      fill: #FFFFFF;\n",
              "    }\n",
              "  </style>\n",
              "\n",
              "    <script>\n",
              "      const buttonEl =\n",
              "        document.querySelector('#df-60e2e8db-3f8c-4b93-869c-25b616b09a99 button.colab-df-convert');\n",
              "      buttonEl.style.display =\n",
              "        google.colab.kernel.accessAllowed ? 'block' : 'none';\n",
              "\n",
              "      async function convertToInteractive(key) {\n",
              "        const element = document.querySelector('#df-60e2e8db-3f8c-4b93-869c-25b616b09a99');\n",
              "        const dataTable =\n",
              "          await google.colab.kernel.invokeFunction('convertToInteractive',\n",
              "                                                    [key], {});\n",
              "        if (!dataTable) return;\n",
              "\n",
              "        const docLinkHtml = 'Like what you see? Visit the ' +\n",
              "          '<a target=\"_blank\" href=https://colab.research.google.com/notebooks/data_table.ipynb>data table notebook</a>'\n",
              "          + ' to learn more about interactive tables.';\n",
              "        element.innerHTML = '';\n",
              "        dataTable['output_type'] = 'display_data';\n",
              "        await google.colab.output.renderOutput(dataTable, element);\n",
              "        const docLink = document.createElement('div');\n",
              "        docLink.innerHTML = docLinkHtml;\n",
              "        element.appendChild(docLink);\n",
              "      }\n",
              "    </script>\n",
              "  </div>\n",
              "\n",
              "\n",
              "<div id=\"df-0bd4487c-7229-49b2-a54e-5a0b76dc59b3\">\n",
              "  <button class=\"colab-df-quickchart\" onclick=\"quickchart('df-0bd4487c-7229-49b2-a54e-5a0b76dc59b3')\"\n",
              "            title=\"Suggest charts\"\n",
              "            style=\"display:none;\">\n",
              "\n",
              "<svg xmlns=\"http://www.w3.org/2000/svg\" height=\"24px\"viewBox=\"0 0 24 24\"\n",
              "     width=\"24px\">\n",
              "    <g>\n",
              "        <path d=\"M19 3H5c-1.1 0-2 .9-2 2v14c0 1.1.9 2 2 2h14c1.1 0 2-.9 2-2V5c0-1.1-.9-2-2-2zM9 17H7v-7h2v7zm4 0h-2V7h2v10zm4 0h-2v-4h2v4z\"/>\n",
              "    </g>\n",
              "</svg>\n",
              "  </button>\n",
              "\n",
              "<style>\n",
              "  .colab-df-quickchart {\n",
              "      --bg-color: #E8F0FE;\n",
              "      --fill-color: #1967D2;\n",
              "      --hover-bg-color: #E2EBFA;\n",
              "      --hover-fill-color: #174EA6;\n",
              "      --disabled-fill-color: #AAA;\n",
              "      --disabled-bg-color: #DDD;\n",
              "  }\n",
              "\n",
              "  [theme=dark] .colab-df-quickchart {\n",
              "      --bg-color: #3B4455;\n",
              "      --fill-color: #D2E3FC;\n",
              "      --hover-bg-color: #434B5C;\n",
              "      --hover-fill-color: #FFFFFF;\n",
              "      --disabled-bg-color: #3B4455;\n",
              "      --disabled-fill-color: #666;\n",
              "  }\n",
              "\n",
              "  .colab-df-quickchart {\n",
              "    background-color: var(--bg-color);\n",
              "    border: none;\n",
              "    border-radius: 50%;\n",
              "    cursor: pointer;\n",
              "    display: none;\n",
              "    fill: var(--fill-color);\n",
              "    height: 32px;\n",
              "    padding: 0;\n",
              "    width: 32px;\n",
              "  }\n",
              "\n",
              "  .colab-df-quickchart:hover {\n",
              "    background-color: var(--hover-bg-color);\n",
              "    box-shadow: 0 1px 2px rgba(60, 64, 67, 0.3), 0 1px 3px 1px rgba(60, 64, 67, 0.15);\n",
              "    fill: var(--button-hover-fill-color);\n",
              "  }\n",
              "\n",
              "  .colab-df-quickchart-complete:disabled,\n",
              "  .colab-df-quickchart-complete:disabled:hover {\n",
              "    background-color: var(--disabled-bg-color);\n",
              "    fill: var(--disabled-fill-color);\n",
              "    box-shadow: none;\n",
              "  }\n",
              "\n",
              "  .colab-df-spinner {\n",
              "    border: 2px solid var(--fill-color);\n",
              "    border-color: transparent;\n",
              "    border-bottom-color: var(--fill-color);\n",
              "    animation:\n",
              "      spin 1s steps(1) infinite;\n",
              "  }\n",
              "\n",
              "  @keyframes spin {\n",
              "    0% {\n",
              "      border-color: transparent;\n",
              "      border-bottom-color: var(--fill-color);\n",
              "      border-left-color: var(--fill-color);\n",
              "    }\n",
              "    20% {\n",
              "      border-color: transparent;\n",
              "      border-left-color: var(--fill-color);\n",
              "      border-top-color: var(--fill-color);\n",
              "    }\n",
              "    30% {\n",
              "      border-color: transparent;\n",
              "      border-left-color: var(--fill-color);\n",
              "      border-top-color: var(--fill-color);\n",
              "      border-right-color: var(--fill-color);\n",
              "    }\n",
              "    40% {\n",
              "      border-color: transparent;\n",
              "      border-right-color: var(--fill-color);\n",
              "      border-top-color: var(--fill-color);\n",
              "    }\n",
              "    60% {\n",
              "      border-color: transparent;\n",
              "      border-right-color: var(--fill-color);\n",
              "    }\n",
              "    80% {\n",
              "      border-color: transparent;\n",
              "      border-right-color: var(--fill-color);\n",
              "      border-bottom-color: var(--fill-color);\n",
              "    }\n",
              "    90% {\n",
              "      border-color: transparent;\n",
              "      border-bottom-color: var(--fill-color);\n",
              "    }\n",
              "  }\n",
              "</style>\n",
              "\n",
              "  <script>\n",
              "    async function quickchart(key) {\n",
              "      const quickchartButtonEl =\n",
              "        document.querySelector('#' + key + ' button');\n",
              "      quickchartButtonEl.disabled = true;  // To prevent multiple clicks.\n",
              "      quickchartButtonEl.classList.add('colab-df-spinner');\n",
              "      try {\n",
              "        const charts = await google.colab.kernel.invokeFunction(\n",
              "            'suggestCharts', [key], {});\n",
              "      } catch (error) {\n",
              "        console.error('Error during call to suggestCharts:', error);\n",
              "      }\n",
              "      quickchartButtonEl.classList.remove('colab-df-spinner');\n",
              "      quickchartButtonEl.classList.add('colab-df-quickchart-complete');\n",
              "    }\n",
              "    (() => {\n",
              "      let quickchartButtonEl =\n",
              "        document.querySelector('#df-0bd4487c-7229-49b2-a54e-5a0b76dc59b3 button');\n",
              "      quickchartButtonEl.style.display =\n",
              "        google.colab.kernel.accessAllowed ? 'block' : 'none';\n",
              "    })();\n",
              "  </script>\n",
              "</div>\n",
              "\n",
              "    </div>\n",
              "  </div>\n"
            ]
          },
          "metadata": {},
          "execution_count": 501
        }
      ]
    },
    {
      "cell_type": "code",
      "source": [
        "# Check the shape to make sure of the right changes:\n",
        "data_shape = red_wine_quality_df.shape\n",
        "\n",
        "data_shape"
      ],
      "metadata": {
        "colab": {
          "base_uri": "https://localhost:8080/"
        },
        "id": "8DIjclkp-l3U",
        "outputId": "21508cd8-7080-4865-a732-bff632551459"
      },
      "execution_count": null,
      "outputs": [
        {
          "output_type": "execute_result",
          "data": {
            "text/plain": [
              "(1599, 12)"
            ]
          },
          "metadata": {},
          "execution_count": 502
        }
      ]
    },
    {
      "cell_type": "markdown",
      "source": [
        "---\n",
        "# Pandas Dataset -> Tensors\n",
        "\n",
        "**RESOURCES :**\n",
        "* https://youtu.be/Xp0LtPBcos0?si=bfLJ_HGFsVBOCPCe\n",
        "* https://youtu.be/V_xro1bcAuA?si=dCSLaKcgFG7Xlzy6&t=32982"
      ],
      "metadata": {
        "id": "YsWvf5VL-p4J"
      }
    },
    {
      "cell_type": "markdown",
      "source": [
        "If we observe our dataset, it is of type `pandas.core.frame.DataFrame` by checking with `type(<dataset>)`."
      ],
      "metadata": {
        "id": "sPLciUaV-xCO"
      }
    },
    {
      "cell_type": "code",
      "source": [
        "import torch\n",
        "\n",
        "type(red_wine_quality_df)"
      ],
      "metadata": {
        "colab": {
          "base_uri": "https://localhost:8080/"
        },
        "id": "yBviP3jq-xk1",
        "outputId": "def54e06-20a8-46ba-b62d-32adb1672fd4"
      },
      "execution_count": null,
      "outputs": [
        {
          "output_type": "execute_result",
          "data": {
            "text/plain": [
              "pandas.core.frame.DataFrame"
            ]
          },
          "metadata": {},
          "execution_count": 503
        }
      ]
    },
    {
      "cell_type": "markdown",
      "source": [
        "First, we split our dataset into our **input features** and our **output features** sets.\n",
        "\n",
        "Our **output features** is the \"quality\" column."
      ],
      "metadata": {
        "id": "LeEnpC9Q-3Uo"
      }
    },
    {
      "cell_type": "code",
      "source": [
        "input = red_wine_quality_df.drop(labels=\"quality\", axis=\"columns\",)\n",
        "\n",
        "input"
      ],
      "metadata": {
        "colab": {
          "base_uri": "https://localhost:8080/",
          "height": 441
        },
        "id": "2Q_vwuZT-39N",
        "outputId": "5e3cb653-483e-482a-a631-ef4d9e9fb668"
      },
      "execution_count": null,
      "outputs": [
        {
          "output_type": "execute_result",
          "data": {
            "text/plain": [
              "      fixed acidity  volatile acidity  citric acid  residual sugar  chlorides  \\\n",
              "0               7.4             0.700         0.00             1.9      0.076   \n",
              "1               7.8             0.880         0.00             2.6      0.098   \n",
              "2               7.8             0.760         0.04             2.3      0.092   \n",
              "3              11.2             0.280         0.56             1.9      0.075   \n",
              "4               7.4             0.700         0.00             1.9      0.076   \n",
              "...             ...               ...          ...             ...        ...   \n",
              "1594            6.2             0.600         0.08             2.0      0.090   \n",
              "1595            5.9             0.550         0.10             2.2      0.062   \n",
              "1596            6.3             0.510         0.13             2.3      0.076   \n",
              "1597            5.9             0.645         0.12             2.0      0.075   \n",
              "1598            6.0             0.310         0.47             3.6      0.067   \n",
              "\n",
              "      free sulfur dioxide  total sulfur dioxide  density    pH  sulphates  \\\n",
              "0                    11.0                  34.0  0.99780  3.51       0.56   \n",
              "1                    25.0                  67.0  0.99680  3.20       0.68   \n",
              "2                    15.0                  54.0  0.99700  3.26       0.65   \n",
              "3                    17.0                  60.0  0.99800  3.16       0.58   \n",
              "4                    11.0                  34.0  0.99780  3.51       0.56   \n",
              "...                   ...                   ...      ...   ...        ...   \n",
              "1594                 32.0                  44.0  0.99490  3.45       0.58   \n",
              "1595                 39.0                  51.0  0.99512  3.52       0.76   \n",
              "1596                 29.0                  40.0  0.99574  3.42       0.75   \n",
              "1597                 32.0                  44.0  0.99547  3.57       0.71   \n",
              "1598                 18.0                  42.0  0.99549  3.39       0.66   \n",
              "\n",
              "      alcohol  \n",
              "0         9.4  \n",
              "1         9.8  \n",
              "2         9.8  \n",
              "3         9.8  \n",
              "4         9.4  \n",
              "...       ...  \n",
              "1594     10.5  \n",
              "1595     11.2  \n",
              "1596     11.0  \n",
              "1597     10.2  \n",
              "1598     11.0  \n",
              "\n",
              "[1599 rows x 11 columns]"
            ],
            "text/html": [
              "\n",
              "  <div id=\"df-e3fa85d1-2527-42df-9c48-2f27cf5583c6\" class=\"colab-df-container\">\n",
              "    <div>\n",
              "<style scoped>\n",
              "    .dataframe tbody tr th:only-of-type {\n",
              "        vertical-align: middle;\n",
              "    }\n",
              "\n",
              "    .dataframe tbody tr th {\n",
              "        vertical-align: top;\n",
              "    }\n",
              "\n",
              "    .dataframe thead th {\n",
              "        text-align: right;\n",
              "    }\n",
              "</style>\n",
              "<table border=\"1\" class=\"dataframe\">\n",
              "  <thead>\n",
              "    <tr style=\"text-align: right;\">\n",
              "      <th></th>\n",
              "      <th>fixed acidity</th>\n",
              "      <th>volatile acidity</th>\n",
              "      <th>citric acid</th>\n",
              "      <th>residual sugar</th>\n",
              "      <th>chlorides</th>\n",
              "      <th>free sulfur dioxide</th>\n",
              "      <th>total sulfur dioxide</th>\n",
              "      <th>density</th>\n",
              "      <th>pH</th>\n",
              "      <th>sulphates</th>\n",
              "      <th>alcohol</th>\n",
              "    </tr>\n",
              "  </thead>\n",
              "  <tbody>\n",
              "    <tr>\n",
              "      <th>0</th>\n",
              "      <td>7.4</td>\n",
              "      <td>0.700</td>\n",
              "      <td>0.00</td>\n",
              "      <td>1.9</td>\n",
              "      <td>0.076</td>\n",
              "      <td>11.0</td>\n",
              "      <td>34.0</td>\n",
              "      <td>0.99780</td>\n",
              "      <td>3.51</td>\n",
              "      <td>0.56</td>\n",
              "      <td>9.4</td>\n",
              "    </tr>\n",
              "    <tr>\n",
              "      <th>1</th>\n",
              "      <td>7.8</td>\n",
              "      <td>0.880</td>\n",
              "      <td>0.00</td>\n",
              "      <td>2.6</td>\n",
              "      <td>0.098</td>\n",
              "      <td>25.0</td>\n",
              "      <td>67.0</td>\n",
              "      <td>0.99680</td>\n",
              "      <td>3.20</td>\n",
              "      <td>0.68</td>\n",
              "      <td>9.8</td>\n",
              "    </tr>\n",
              "    <tr>\n",
              "      <th>2</th>\n",
              "      <td>7.8</td>\n",
              "      <td>0.760</td>\n",
              "      <td>0.04</td>\n",
              "      <td>2.3</td>\n",
              "      <td>0.092</td>\n",
              "      <td>15.0</td>\n",
              "      <td>54.0</td>\n",
              "      <td>0.99700</td>\n",
              "      <td>3.26</td>\n",
              "      <td>0.65</td>\n",
              "      <td>9.8</td>\n",
              "    </tr>\n",
              "    <tr>\n",
              "      <th>3</th>\n",
              "      <td>11.2</td>\n",
              "      <td>0.280</td>\n",
              "      <td>0.56</td>\n",
              "      <td>1.9</td>\n",
              "      <td>0.075</td>\n",
              "      <td>17.0</td>\n",
              "      <td>60.0</td>\n",
              "      <td>0.99800</td>\n",
              "      <td>3.16</td>\n",
              "      <td>0.58</td>\n",
              "      <td>9.8</td>\n",
              "    </tr>\n",
              "    <tr>\n",
              "      <th>4</th>\n",
              "      <td>7.4</td>\n",
              "      <td>0.700</td>\n",
              "      <td>0.00</td>\n",
              "      <td>1.9</td>\n",
              "      <td>0.076</td>\n",
              "      <td>11.0</td>\n",
              "      <td>34.0</td>\n",
              "      <td>0.99780</td>\n",
              "      <td>3.51</td>\n",
              "      <td>0.56</td>\n",
              "      <td>9.4</td>\n",
              "    </tr>\n",
              "    <tr>\n",
              "      <th>...</th>\n",
              "      <td>...</td>\n",
              "      <td>...</td>\n",
              "      <td>...</td>\n",
              "      <td>...</td>\n",
              "      <td>...</td>\n",
              "      <td>...</td>\n",
              "      <td>...</td>\n",
              "      <td>...</td>\n",
              "      <td>...</td>\n",
              "      <td>...</td>\n",
              "      <td>...</td>\n",
              "    </tr>\n",
              "    <tr>\n",
              "      <th>1594</th>\n",
              "      <td>6.2</td>\n",
              "      <td>0.600</td>\n",
              "      <td>0.08</td>\n",
              "      <td>2.0</td>\n",
              "      <td>0.090</td>\n",
              "      <td>32.0</td>\n",
              "      <td>44.0</td>\n",
              "      <td>0.99490</td>\n",
              "      <td>3.45</td>\n",
              "      <td>0.58</td>\n",
              "      <td>10.5</td>\n",
              "    </tr>\n",
              "    <tr>\n",
              "      <th>1595</th>\n",
              "      <td>5.9</td>\n",
              "      <td>0.550</td>\n",
              "      <td>0.10</td>\n",
              "      <td>2.2</td>\n",
              "      <td>0.062</td>\n",
              "      <td>39.0</td>\n",
              "      <td>51.0</td>\n",
              "      <td>0.99512</td>\n",
              "      <td>3.52</td>\n",
              "      <td>0.76</td>\n",
              "      <td>11.2</td>\n",
              "    </tr>\n",
              "    <tr>\n",
              "      <th>1596</th>\n",
              "      <td>6.3</td>\n",
              "      <td>0.510</td>\n",
              "      <td>0.13</td>\n",
              "      <td>2.3</td>\n",
              "      <td>0.076</td>\n",
              "      <td>29.0</td>\n",
              "      <td>40.0</td>\n",
              "      <td>0.99574</td>\n",
              "      <td>3.42</td>\n",
              "      <td>0.75</td>\n",
              "      <td>11.0</td>\n",
              "    </tr>\n",
              "    <tr>\n",
              "      <th>1597</th>\n",
              "      <td>5.9</td>\n",
              "      <td>0.645</td>\n",
              "      <td>0.12</td>\n",
              "      <td>2.0</td>\n",
              "      <td>0.075</td>\n",
              "      <td>32.0</td>\n",
              "      <td>44.0</td>\n",
              "      <td>0.99547</td>\n",
              "      <td>3.57</td>\n",
              "      <td>0.71</td>\n",
              "      <td>10.2</td>\n",
              "    </tr>\n",
              "    <tr>\n",
              "      <th>1598</th>\n",
              "      <td>6.0</td>\n",
              "      <td>0.310</td>\n",
              "      <td>0.47</td>\n",
              "      <td>3.6</td>\n",
              "      <td>0.067</td>\n",
              "      <td>18.0</td>\n",
              "      <td>42.0</td>\n",
              "      <td>0.99549</td>\n",
              "      <td>3.39</td>\n",
              "      <td>0.66</td>\n",
              "      <td>11.0</td>\n",
              "    </tr>\n",
              "  </tbody>\n",
              "</table>\n",
              "<p>1599 rows × 11 columns</p>\n",
              "</div>\n",
              "    <div class=\"colab-df-buttons\">\n",
              "\n",
              "  <div class=\"colab-df-container\">\n",
              "    <button class=\"colab-df-convert\" onclick=\"convertToInteractive('df-e3fa85d1-2527-42df-9c48-2f27cf5583c6')\"\n",
              "            title=\"Convert this dataframe to an interactive table.\"\n",
              "            style=\"display:none;\">\n",
              "\n",
              "  <svg xmlns=\"http://www.w3.org/2000/svg\" height=\"24px\" viewBox=\"0 -960 960 960\">\n",
              "    <path d=\"M120-120v-720h720v720H120Zm60-500h600v-160H180v160Zm220 220h160v-160H400v160Zm0 220h160v-160H400v160ZM180-400h160v-160H180v160Zm440 0h160v-160H620v160ZM180-180h160v-160H180v160Zm440 0h160v-160H620v160Z\"/>\n",
              "  </svg>\n",
              "    </button>\n",
              "\n",
              "  <style>\n",
              "    .colab-df-container {\n",
              "      display:flex;\n",
              "      gap: 12px;\n",
              "    }\n",
              "\n",
              "    .colab-df-convert {\n",
              "      background-color: #E8F0FE;\n",
              "      border: none;\n",
              "      border-radius: 50%;\n",
              "      cursor: pointer;\n",
              "      display: none;\n",
              "      fill: #1967D2;\n",
              "      height: 32px;\n",
              "      padding: 0 0 0 0;\n",
              "      width: 32px;\n",
              "    }\n",
              "\n",
              "    .colab-df-convert:hover {\n",
              "      background-color: #E2EBFA;\n",
              "      box-shadow: 0px 1px 2px rgba(60, 64, 67, 0.3), 0px 1px 3px 1px rgba(60, 64, 67, 0.15);\n",
              "      fill: #174EA6;\n",
              "    }\n",
              "\n",
              "    .colab-df-buttons div {\n",
              "      margin-bottom: 4px;\n",
              "    }\n",
              "\n",
              "    [theme=dark] .colab-df-convert {\n",
              "      background-color: #3B4455;\n",
              "      fill: #D2E3FC;\n",
              "    }\n",
              "\n",
              "    [theme=dark] .colab-df-convert:hover {\n",
              "      background-color: #434B5C;\n",
              "      box-shadow: 0px 1px 3px 1px rgba(0, 0, 0, 0.15);\n",
              "      filter: drop-shadow(0px 1px 2px rgba(0, 0, 0, 0.3));\n",
              "      fill: #FFFFFF;\n",
              "    }\n",
              "  </style>\n",
              "\n",
              "    <script>\n",
              "      const buttonEl =\n",
              "        document.querySelector('#df-e3fa85d1-2527-42df-9c48-2f27cf5583c6 button.colab-df-convert');\n",
              "      buttonEl.style.display =\n",
              "        google.colab.kernel.accessAllowed ? 'block' : 'none';\n",
              "\n",
              "      async function convertToInteractive(key) {\n",
              "        const element = document.querySelector('#df-e3fa85d1-2527-42df-9c48-2f27cf5583c6');\n",
              "        const dataTable =\n",
              "          await google.colab.kernel.invokeFunction('convertToInteractive',\n",
              "                                                    [key], {});\n",
              "        if (!dataTable) return;\n",
              "\n",
              "        const docLinkHtml = 'Like what you see? Visit the ' +\n",
              "          '<a target=\"_blank\" href=https://colab.research.google.com/notebooks/data_table.ipynb>data table notebook</a>'\n",
              "          + ' to learn more about interactive tables.';\n",
              "        element.innerHTML = '';\n",
              "        dataTable['output_type'] = 'display_data';\n",
              "        await google.colab.output.renderOutput(dataTable, element);\n",
              "        const docLink = document.createElement('div');\n",
              "        docLink.innerHTML = docLinkHtml;\n",
              "        element.appendChild(docLink);\n",
              "      }\n",
              "    </script>\n",
              "  </div>\n",
              "\n",
              "\n",
              "<div id=\"df-4e8e4926-7df3-4795-ac82-a12f4aab6a26\">\n",
              "  <button class=\"colab-df-quickchart\" onclick=\"quickchart('df-4e8e4926-7df3-4795-ac82-a12f4aab6a26')\"\n",
              "            title=\"Suggest charts\"\n",
              "            style=\"display:none;\">\n",
              "\n",
              "<svg xmlns=\"http://www.w3.org/2000/svg\" height=\"24px\"viewBox=\"0 0 24 24\"\n",
              "     width=\"24px\">\n",
              "    <g>\n",
              "        <path d=\"M19 3H5c-1.1 0-2 .9-2 2v14c0 1.1.9 2 2 2h14c1.1 0 2-.9 2-2V5c0-1.1-.9-2-2-2zM9 17H7v-7h2v7zm4 0h-2V7h2v10zm4 0h-2v-4h2v4z\"/>\n",
              "    </g>\n",
              "</svg>\n",
              "  </button>\n",
              "\n",
              "<style>\n",
              "  .colab-df-quickchart {\n",
              "      --bg-color: #E8F0FE;\n",
              "      --fill-color: #1967D2;\n",
              "      --hover-bg-color: #E2EBFA;\n",
              "      --hover-fill-color: #174EA6;\n",
              "      --disabled-fill-color: #AAA;\n",
              "      --disabled-bg-color: #DDD;\n",
              "  }\n",
              "\n",
              "  [theme=dark] .colab-df-quickchart {\n",
              "      --bg-color: #3B4455;\n",
              "      --fill-color: #D2E3FC;\n",
              "      --hover-bg-color: #434B5C;\n",
              "      --hover-fill-color: #FFFFFF;\n",
              "      --disabled-bg-color: #3B4455;\n",
              "      --disabled-fill-color: #666;\n",
              "  }\n",
              "\n",
              "  .colab-df-quickchart {\n",
              "    background-color: var(--bg-color);\n",
              "    border: none;\n",
              "    border-radius: 50%;\n",
              "    cursor: pointer;\n",
              "    display: none;\n",
              "    fill: var(--fill-color);\n",
              "    height: 32px;\n",
              "    padding: 0;\n",
              "    width: 32px;\n",
              "  }\n",
              "\n",
              "  .colab-df-quickchart:hover {\n",
              "    background-color: var(--hover-bg-color);\n",
              "    box-shadow: 0 1px 2px rgba(60, 64, 67, 0.3), 0 1px 3px 1px rgba(60, 64, 67, 0.15);\n",
              "    fill: var(--button-hover-fill-color);\n",
              "  }\n",
              "\n",
              "  .colab-df-quickchart-complete:disabled,\n",
              "  .colab-df-quickchart-complete:disabled:hover {\n",
              "    background-color: var(--disabled-bg-color);\n",
              "    fill: var(--disabled-fill-color);\n",
              "    box-shadow: none;\n",
              "  }\n",
              "\n",
              "  .colab-df-spinner {\n",
              "    border: 2px solid var(--fill-color);\n",
              "    border-color: transparent;\n",
              "    border-bottom-color: var(--fill-color);\n",
              "    animation:\n",
              "      spin 1s steps(1) infinite;\n",
              "  }\n",
              "\n",
              "  @keyframes spin {\n",
              "    0% {\n",
              "      border-color: transparent;\n",
              "      border-bottom-color: var(--fill-color);\n",
              "      border-left-color: var(--fill-color);\n",
              "    }\n",
              "    20% {\n",
              "      border-color: transparent;\n",
              "      border-left-color: var(--fill-color);\n",
              "      border-top-color: var(--fill-color);\n",
              "    }\n",
              "    30% {\n",
              "      border-color: transparent;\n",
              "      border-left-color: var(--fill-color);\n",
              "      border-top-color: var(--fill-color);\n",
              "      border-right-color: var(--fill-color);\n",
              "    }\n",
              "    40% {\n",
              "      border-color: transparent;\n",
              "      border-right-color: var(--fill-color);\n",
              "      border-top-color: var(--fill-color);\n",
              "    }\n",
              "    60% {\n",
              "      border-color: transparent;\n",
              "      border-right-color: var(--fill-color);\n",
              "    }\n",
              "    80% {\n",
              "      border-color: transparent;\n",
              "      border-right-color: var(--fill-color);\n",
              "      border-bottom-color: var(--fill-color);\n",
              "    }\n",
              "    90% {\n",
              "      border-color: transparent;\n",
              "      border-bottom-color: var(--fill-color);\n",
              "    }\n",
              "  }\n",
              "</style>\n",
              "\n",
              "  <script>\n",
              "    async function quickchart(key) {\n",
              "      const quickchartButtonEl =\n",
              "        document.querySelector('#' + key + ' button');\n",
              "      quickchartButtonEl.disabled = true;  // To prevent multiple clicks.\n",
              "      quickchartButtonEl.classList.add('colab-df-spinner');\n",
              "      try {\n",
              "        const charts = await google.colab.kernel.invokeFunction(\n",
              "            'suggestCharts', [key], {});\n",
              "      } catch (error) {\n",
              "        console.error('Error during call to suggestCharts:', error);\n",
              "      }\n",
              "      quickchartButtonEl.classList.remove('colab-df-spinner');\n",
              "      quickchartButtonEl.classList.add('colab-df-quickchart-complete');\n",
              "    }\n",
              "    (() => {\n",
              "      let quickchartButtonEl =\n",
              "        document.querySelector('#df-4e8e4926-7df3-4795-ac82-a12f4aab6a26 button');\n",
              "      quickchartButtonEl.style.display =\n",
              "        google.colab.kernel.accessAllowed ? 'block' : 'none';\n",
              "    })();\n",
              "  </script>\n",
              "</div>\n",
              "\n",
              "  <div id=\"id_4a83f451-a784-4b9e-beff-de89c79a4ecd\">\n",
              "    <style>\n",
              "      .colab-df-generate {\n",
              "        background-color: #E8F0FE;\n",
              "        border: none;\n",
              "        border-radius: 50%;\n",
              "        cursor: pointer;\n",
              "        display: none;\n",
              "        fill: #1967D2;\n",
              "        height: 32px;\n",
              "        padding: 0 0 0 0;\n",
              "        width: 32px;\n",
              "      }\n",
              "\n",
              "      .colab-df-generate:hover {\n",
              "        background-color: #E2EBFA;\n",
              "        box-shadow: 0px 1px 2px rgba(60, 64, 67, 0.3), 0px 1px 3px 1px rgba(60, 64, 67, 0.15);\n",
              "        fill: #174EA6;\n",
              "      }\n",
              "\n",
              "      [theme=dark] .colab-df-generate {\n",
              "        background-color: #3B4455;\n",
              "        fill: #D2E3FC;\n",
              "      }\n",
              "\n",
              "      [theme=dark] .colab-df-generate:hover {\n",
              "        background-color: #434B5C;\n",
              "        box-shadow: 0px 1px 3px 1px rgba(0, 0, 0, 0.15);\n",
              "        filter: drop-shadow(0px 1px 2px rgba(0, 0, 0, 0.3));\n",
              "        fill: #FFFFFF;\n",
              "      }\n",
              "    </style>\n",
              "    <button class=\"colab-df-generate\" onclick=\"generateWithVariable('input')\"\n",
              "            title=\"Generate code using this dataframe.\"\n",
              "            style=\"display:none;\">\n",
              "\n",
              "  <svg xmlns=\"http://www.w3.org/2000/svg\" height=\"24px\"viewBox=\"0 0 24 24\"\n",
              "       width=\"24px\">\n",
              "    <path d=\"M7,19H8.4L18.45,9,17,7.55,7,17.6ZM5,21V16.75L18.45,3.32a2,2,0,0,1,2.83,0l1.4,1.43a1.91,1.91,0,0,1,.58,1.4,1.91,1.91,0,0,1-.58,1.4L9.25,21ZM18.45,9,17,7.55Zm-12,3A5.31,5.31,0,0,0,4.9,8.1,5.31,5.31,0,0,0,1,6.5,5.31,5.31,0,0,0,4.9,4.9,5.31,5.31,0,0,0,6.5,1,5.31,5.31,0,0,0,8.1,4.9,5.31,5.31,0,0,0,12,6.5,5.46,5.46,0,0,0,6.5,12Z\"/>\n",
              "  </svg>\n",
              "    </button>\n",
              "    <script>\n",
              "      (() => {\n",
              "      const buttonEl =\n",
              "        document.querySelector('#id_4a83f451-a784-4b9e-beff-de89c79a4ecd button.colab-df-generate');\n",
              "      buttonEl.style.display =\n",
              "        google.colab.kernel.accessAllowed ? 'block' : 'none';\n",
              "\n",
              "      buttonEl.onclick = () => {\n",
              "        google.colab.notebook.generateWithVariable('input');\n",
              "      }\n",
              "      })();\n",
              "    </script>\n",
              "  </div>\n",
              "\n",
              "    </div>\n",
              "  </div>\n"
            ]
          },
          "metadata": {},
          "execution_count": 504
        }
      ]
    },
    {
      "cell_type": "code",
      "source": [
        "output = red_wine_quality_df[\"quality\"]\n",
        "output"
      ],
      "metadata": {
        "colab": {
          "base_uri": "https://localhost:8080/"
        },
        "id": "h5d99y3O_V9i",
        "outputId": "07d0f45a-4738-4f71-8fef-6037e1d78219"
      },
      "execution_count": null,
      "outputs": [
        {
          "output_type": "execute_result",
          "data": {
            "text/plain": [
              "0       5\n",
              "1       5\n",
              "2       5\n",
              "3       6\n",
              "4       5\n",
              "       ..\n",
              "1594    5\n",
              "1595    6\n",
              "1596    6\n",
              "1597    5\n",
              "1598    6\n",
              "Name: quality, Length: 1599, dtype: int64"
            ]
          },
          "metadata": {},
          "execution_count": 505
        }
      ]
    },
    {
      "cell_type": "markdown",
      "source": [
        "We then convert to **numpy** arrays so that we can then convert to **tensors**."
      ],
      "metadata": {
        "id": "HPoSnKRm_nVF"
      }
    },
    {
      "cell_type": "code",
      "source": [
        "input_numpy = input.values\n",
        "\n",
        "type(input_numpy)"
      ],
      "metadata": {
        "colab": {
          "base_uri": "https://localhost:8080/"
        },
        "id": "PCguZS98_oVN",
        "outputId": "f7d662ec-43dd-4e31-ecd1-2e6023541c86"
      },
      "execution_count": null,
      "outputs": [
        {
          "output_type": "execute_result",
          "data": {
            "text/plain": [
              "numpy.ndarray"
            ]
          },
          "metadata": {},
          "execution_count": 506
        }
      ]
    },
    {
      "cell_type": "code",
      "source": [
        "output_numpy = output.values\n",
        "\n",
        "type(output_numpy)"
      ],
      "metadata": {
        "colab": {
          "base_uri": "https://localhost:8080/"
        },
        "id": "1mm9FL5mAIkT",
        "outputId": "2c9071b8-93ec-4d03-8484-1a6ddffec3aa"
      },
      "execution_count": null,
      "outputs": [
        {
          "output_type": "execute_result",
          "data": {
            "text/plain": [
              "numpy.ndarray"
            ]
          },
          "metadata": {},
          "execution_count": 507
        }
      ]
    },
    {
      "cell_type": "markdown",
      "source": [
        "Finally, convert to **tensors**."
      ],
      "metadata": {
        "id": "6BdyPBVSAQC7"
      }
    },
    {
      "cell_type": "code",
      "source": [
        "import torch\n",
        "\n",
        "# convert to 'float32' as thats the default torch data type;\n",
        "# numpy arrays are by default 'float64':\n",
        "X = torch.from_numpy(input_numpy).type(torch.float32)\n",
        "y = torch.from_numpy(output_numpy).type(torch.float32)\n",
        "\n",
        "X.dtype, y.dtype"
      ],
      "metadata": {
        "colab": {
          "base_uri": "https://localhost:8080/"
        },
        "id": "JeOSPKkAAQl0",
        "outputId": "2908a488-2208-4b03-aed4-f2e050e113f2"
      },
      "execution_count": null,
      "outputs": [
        {
          "output_type": "execute_result",
          "data": {
            "text/plain": [
              "(torch.float32, torch.float32)"
            ]
          },
          "metadata": {},
          "execution_count": 508
        }
      ]
    },
    {
      "cell_type": "markdown",
      "source": [
        "As an additional adjustment for later use, modify the shape of the `y` tensor to be of **rows** and **columns**.\n",
        "\n",
        "It is currently of shape `[1599]`.\n",
        "\n",
        "We want it to be of shape `[1599, 1]`."
      ],
      "metadata": {
        "id": "YW37ZhLcIkEM"
      }
    },
    {
      "cell_type": "code",
      "source": [
        "print(f\"y.shape before : {y.shape}\")\n",
        "y = torch.unsqueeze(y, 1)\n",
        "print(f\"y.shape after : {y.shape}\")"
      ],
      "metadata": {
        "colab": {
          "base_uri": "https://localhost:8080/"
        },
        "id": "XIovqpSVIPo3",
        "outputId": "7dd9cbfc-f72d-4bd8-c070-faff69d36570"
      },
      "execution_count": null,
      "outputs": [
        {
          "output_type": "stream",
          "name": "stdout",
          "text": [
            "y.shape before : torch.Size([1599])\n",
            "y.shape after : torch.Size([1599, 1])\n"
          ]
        }
      ]
    },
    {
      "cell_type": "markdown",
      "source": [
        "---\n",
        "# Splitting our Tensors into Training & Testing Sets\n",
        "\n",
        "**RESOURCE**: https://youtu.be/V_xro1bcAuA?si=J1dqGK1crHbd5K1j&t=33384"
      ],
      "metadata": {
        "id": "_5sT3TjtAfBn"
      }
    },
    {
      "cell_type": "code",
      "source": [
        "from sklearn.model_selection import train_test_split\n",
        "\n",
        "# A constant random seed to get same results every time.\n",
        "random_seed = 90\n",
        "X_train, X_test, y_train, y_test = train_test_split(\n",
        "    X,\n",
        "    y,\n",
        "    train_size=0.75,\n",
        "    random_state=random_seed,\n",
        ")\n",
        "\n",
        "len(X_train), len(X_test), len(y_train), len(y_test)"
      ],
      "metadata": {
        "colab": {
          "base_uri": "https://localhost:8080/"
        },
        "id": "cY7TZgHAAfkE",
        "outputId": "ecb72c3f-3d8e-473b-a84b-789f64a3bdbe"
      },
      "execution_count": null,
      "outputs": [
        {
          "output_type": "execute_result",
          "data": {
            "text/plain": [
              "(1199, 400, 1199, 400)"
            ]
          },
          "metadata": {},
          "execution_count": 510
        }
      ]
    },
    {
      "cell_type": "markdown",
      "source": [
        "---\n",
        "# Creating our Linear Regression Model\n",
        "\n",
        "**RESOURCE : https://youtu.be/V_xro1bcAuA?si=FgfLiACcrPbkcyco&t=28240**"
      ],
      "metadata": {
        "id": "F0QCGTXVAs1y"
      }
    },
    {
      "cell_type": "code",
      "source": [
        "from torch import nn\n",
        "\n",
        "class LinearRegression(nn.Module):\n",
        "\n",
        "  def __init__(self, input_features: int, output_features: int):\n",
        "    super().__init__()\n",
        "\n",
        "    # y = weights_vector * X + bias_vector\n",
        "    # y -> output\n",
        "    # X -> input\n",
        "    self.linear = nn.Linear(\n",
        "        in_features=input_features,\n",
        "        out_features=output_features,\n",
        "        bias=True,\n",
        "    )\n",
        "\n",
        "  # This method computes, using the linear formula...\n",
        "  # with the weights & bias...\n",
        "  # taking as input a tensor (X)...\n",
        "  # and returning as output the computed tensor:\n",
        "  def forward(self, X : torch.Tensor) -> torch.Tensor:\n",
        "    return self.linear(X)"
      ],
      "metadata": {
        "id": "fkjoKHdoAtZs"
      },
      "execution_count": null,
      "outputs": []
    },
    {
      "cell_type": "markdown",
      "source": [
        "## Let us create an instance of our Linear Regression model and check out its initial parameters (weights & bias)."
      ],
      "metadata": {
        "id": "3dlnZRHuK4ET"
      }
    },
    {
      "cell_type": "code",
      "source": [
        "in_features = X_train.shape[1]\n",
        "out_features = y_train.shape[1]\n",
        "\n",
        "in_features, out_features"
      ],
      "metadata": {
        "colab": {
          "base_uri": "https://localhost:8080/"
        },
        "id": "fo5JQNP1HjxK",
        "outputId": "fe126bfb-4154-49f7-c598-3974a0980b05"
      },
      "execution_count": null,
      "outputs": [
        {
          "output_type": "execute_result",
          "data": {
            "text/plain": [
              "(11, 1)"
            ]
          },
          "metadata": {},
          "execution_count": 512
        }
      ]
    },
    {
      "cell_type": "code",
      "source": [
        "# Seed is set for similar results every time we run the code.\n",
        "torch.manual_seed(90)\n",
        "\n",
        "linear_regression_model = LinearRegression(\n",
        "    input_features=in_features,\n",
        "    output_features=out_features,\n",
        ")\n",
        "\n",
        "linear_regression_model"
      ],
      "metadata": {
        "colab": {
          "base_uri": "https://localhost:8080/"
        },
        "id": "PQKdvKUfHbkw",
        "outputId": "02789866-817c-4dfe-fe8f-781f26297d2d"
      },
      "execution_count": null,
      "outputs": [
        {
          "output_type": "execute_result",
          "data": {
            "text/plain": [
              "LinearRegression(\n",
              "  (linear): Linear(in_features=11, out_features=1, bias=True)\n",
              ")"
            ]
          },
          "metadata": {},
          "execution_count": 513
        }
      ]
    },
    {
      "cell_type": "code",
      "source": [
        "lr_model_weights = linear_regression_model.state_dict()['linear.weight']\n",
        "lr_model_bias = linear_regression_model.state_dict()['linear.bias']"
      ],
      "metadata": {
        "id": "QvKucABJJ6p9"
      },
      "execution_count": null,
      "outputs": []
    },
    {
      "cell_type": "code",
      "source": [
        "lr_model_weights"
      ],
      "metadata": {
        "colab": {
          "base_uri": "https://localhost:8080/"
        },
        "id": "yThehd-IORCC",
        "outputId": "410fdd87-a0dd-410d-c623-42f75ba93511"
      },
      "execution_count": null,
      "outputs": [
        {
          "output_type": "execute_result",
          "data": {
            "text/plain": [
              "tensor([[-0.1918,  0.1379, -0.0799,  0.1015, -0.1292, -0.1074,  0.0310,  0.2530,\n",
              "          0.0820, -0.1740,  0.0203]])"
            ]
          },
          "metadata": {},
          "execution_count": 515
        }
      ]
    },
    {
      "cell_type": "code",
      "source": [
        "lr_model_bias"
      ],
      "metadata": {
        "colab": {
          "base_uri": "https://localhost:8080/"
        },
        "id": "zFniOQk4OT3X",
        "outputId": "f5948346-fbf7-49ed-9cee-1ba7c9ea8be8"
      },
      "execution_count": null,
      "outputs": [
        {
          "output_type": "execute_result",
          "data": {
            "text/plain": [
              "tensor([0.2174])"
            ]
          },
          "metadata": {},
          "execution_count": 516
        }
      ]
    },
    {
      "cell_type": "markdown",
      "source": [
        "## Looks good!"
      ],
      "metadata": {
        "id": "nswi-VctLLg2"
      }
    },
    {
      "cell_type": "markdown",
      "source": [
        "---\n",
        "# Training & Testing our Linear Regression Model\n",
        "\n",
        "**RESOURCE : https://youtu.be/V_xro1bcAuA?si=xALSd-15TJap9PCW&t=28989**"
      ],
      "metadata": {
        "id": "VqYUDtTrN1w6"
      }
    },
    {
      "cell_type": "markdown",
      "source": [
        "## Loss Function - Mean Squared Error"
      ],
      "metadata": {
        "id": "kAuX22fZObex"
      }
    },
    {
      "cell_type": "code",
      "source": [
        "loss_function = nn.MSELoss()\n",
        "loss_function"
      ],
      "metadata": {
        "colab": {
          "base_uri": "https://localhost:8080/"
        },
        "id": "EU_cN8nSLNGP",
        "outputId": "6bb98aac-170b-43f7-8e6f-18266c60c2d2"
      },
      "execution_count": null,
      "outputs": [
        {
          "output_type": "execute_result",
          "data": {
            "text/plain": [
              "MSELoss()"
            ]
          },
          "metadata": {},
          "execution_count": 517
        }
      ]
    },
    {
      "cell_type": "markdown",
      "source": [
        "## Optimizer - Stochastic Gradient Descent"
      ],
      "metadata": {
        "id": "gz8IZpUNOl8I"
      }
    },
    {
      "cell_type": "code",
      "source": [
        "learning_rate = 0.0001\n",
        "\n",
        "optimizer = torch.optim.SGD(\n",
        "    params=linear_regression_model.parameters(),\n",
        "    lr=learning_rate\n",
        ")"
      ],
      "metadata": {
        "id": "ujLZdKhCOo2P"
      },
      "execution_count": null,
      "outputs": []
    },
    {
      "cell_type": "markdown",
      "source": [
        "## Training Loop"
      ],
      "metadata": {
        "id": "yFVpuQpfPG2m"
      }
    },
    {
      "cell_type": "code",
      "source": [
        "# Set a seed to get similar results each time the code runs:\n",
        "torch.manual_seed(90)\n",
        "\n",
        "# epochs <-> number of training iterations (I think):\n",
        "epochs = 1000\n",
        "\n",
        "for epoch in range(epochs):\n",
        "  # Set the model to \"training\" mode:\n",
        "  linear_regression_model.train()\n",
        "\n",
        "  # Calculate the predicted output:\n",
        "  y_predicted = linear_regression_model(X_train)\n",
        "\n",
        "  # Calculate the error loss...\n",
        "  # Between actual and predicted output:\n",
        "  loss = loss_function(y_predicted, y_train)\n",
        "\n",
        "  optimizer.zero_grad()\n",
        "\n",
        "  # Backpropogate the calculated derivates (I think):\n",
        "  loss.backward()\n",
        "\n",
        "  # Perform a step of gradient descent:\n",
        "  optimizer.step()\n",
        "\n",
        "  # --------------------\n",
        "  # TESTING\n",
        "  # --------------------\n",
        "  # Set model to evaluation mode:\n",
        "  linear_regression_model.eval()\n",
        "\n",
        "  if epoch % 10 == 0:\n",
        "    with torch.inference_mode():\n",
        "      test_y_predicted = linear_regression_model(X_test)\n",
        "\n",
        "      test_loss = loss_function(test_y_predicted, y_test)\n",
        "\n",
        "    print(f\"EPOCH {epoch} <--> Training Loss : {loss:.2f} | Test Loss : {test_loss: .2f}\")\n",
        "  # -------------------------------------------------------"
      ],
      "metadata": {
        "id": "6VFibehRPIp5",
        "colab": {
          "base_uri": "https://localhost:8080/"
        },
        "outputId": "b434c330-eedd-46e1-a51b-c70fdeda8b7d"
      },
      "execution_count": null,
      "outputs": [
        {
          "output_type": "stream",
          "name": "stdout",
          "text": [
            "EPOCH 0 <--> Training Loss : 41.95 | Test Loss :  17.99\n",
            "EPOCH 10 <--> Training Loss : 11.69 | Test Loss :  11.55\n",
            "EPOCH 20 <--> Training Loss : 8.58 | Test Loss :  8.54\n",
            "EPOCH 30 <--> Training Loss : 6.38 | Test Loss :  6.39\n",
            "EPOCH 40 <--> Training Loss : 4.81 | Test Loss :  4.85\n",
            "EPOCH 50 <--> Training Loss : 3.68 | Test Loss :  3.75\n",
            "EPOCH 60 <--> Training Loss : 2.87 | Test Loss :  2.95\n",
            "EPOCH 70 <--> Training Loss : 2.29 | Test Loss :  2.36\n",
            "EPOCH 80 <--> Training Loss : 1.86 | Test Loss :  1.94\n",
            "EPOCH 90 <--> Training Loss : 1.55 | Test Loss :  1.62\n",
            "EPOCH 100 <--> Training Loss : 1.32 | Test Loss :  1.39\n",
            "EPOCH 110 <--> Training Loss : 1.14 | Test Loss :  1.21\n",
            "EPOCH 120 <--> Training Loss : 1.01 | Test Loss :  1.08\n",
            "EPOCH 130 <--> Training Loss : 0.91 | Test Loss :  0.98\n",
            "EPOCH 140 <--> Training Loss : 0.84 | Test Loss :  0.90\n",
            "EPOCH 150 <--> Training Loss : 0.78 | Test Loss :  0.84\n",
            "EPOCH 160 <--> Training Loss : 0.74 | Test Loss :  0.79\n",
            "EPOCH 170 <--> Training Loss : 0.70 | Test Loss :  0.76\n",
            "EPOCH 180 <--> Training Loss : 0.67 | Test Loss :  0.73\n",
            "EPOCH 190 <--> Training Loss : 0.65 | Test Loss :  0.70\n",
            "EPOCH 200 <--> Training Loss : 0.63 | Test Loss :  0.69\n",
            "EPOCH 210 <--> Training Loss : 0.61 | Test Loss :  0.67\n",
            "EPOCH 220 <--> Training Loss : 0.60 | Test Loss :  0.66\n",
            "EPOCH 230 <--> Training Loss : 0.59 | Test Loss :  0.65\n",
            "EPOCH 240 <--> Training Loss : 0.58 | Test Loss :  0.64\n",
            "EPOCH 250 <--> Training Loss : 0.58 | Test Loss :  0.63\n",
            "EPOCH 260 <--> Training Loss : 0.57 | Test Loss :  0.63\n",
            "EPOCH 270 <--> Training Loss : 0.57 | Test Loss :  0.62\n",
            "EPOCH 280 <--> Training Loss : 0.56 | Test Loss :  0.62\n",
            "EPOCH 290 <--> Training Loss : 0.56 | Test Loss :  0.61\n",
            "EPOCH 300 <--> Training Loss : 0.56 | Test Loss :  0.61\n",
            "EPOCH 310 <--> Training Loss : 0.55 | Test Loss :  0.61\n",
            "EPOCH 320 <--> Training Loss : 0.55 | Test Loss :  0.61\n",
            "EPOCH 330 <--> Training Loss : 0.55 | Test Loss :  0.60\n",
            "EPOCH 340 <--> Training Loss : 0.55 | Test Loss :  0.60\n",
            "EPOCH 350 <--> Training Loss : 0.55 | Test Loss :  0.60\n",
            "EPOCH 360 <--> Training Loss : 0.55 | Test Loss :  0.60\n",
            "EPOCH 370 <--> Training Loss : 0.54 | Test Loss :  0.60\n",
            "EPOCH 380 <--> Training Loss : 0.54 | Test Loss :  0.60\n",
            "EPOCH 390 <--> Training Loss : 0.54 | Test Loss :  0.60\n",
            "EPOCH 400 <--> Training Loss : 0.54 | Test Loss :  0.60\n",
            "EPOCH 410 <--> Training Loss : 0.54 | Test Loss :  0.60\n",
            "EPOCH 420 <--> Training Loss : 0.54 | Test Loss :  0.60\n",
            "EPOCH 430 <--> Training Loss : 0.54 | Test Loss :  0.60\n",
            "EPOCH 440 <--> Training Loss : 0.54 | Test Loss :  0.60\n",
            "EPOCH 450 <--> Training Loss : 0.54 | Test Loss :  0.60\n",
            "EPOCH 460 <--> Training Loss : 0.54 | Test Loss :  0.59\n",
            "EPOCH 470 <--> Training Loss : 0.54 | Test Loss :  0.59\n",
            "EPOCH 480 <--> Training Loss : 0.54 | Test Loss :  0.59\n",
            "EPOCH 490 <--> Training Loss : 0.54 | Test Loss :  0.59\n",
            "EPOCH 500 <--> Training Loss : 0.54 | Test Loss :  0.59\n",
            "EPOCH 510 <--> Training Loss : 0.54 | Test Loss :  0.59\n",
            "EPOCH 520 <--> Training Loss : 0.54 | Test Loss :  0.59\n",
            "EPOCH 530 <--> Training Loss : 0.54 | Test Loss :  0.59\n",
            "EPOCH 540 <--> Training Loss : 0.54 | Test Loss :  0.59\n",
            "EPOCH 550 <--> Training Loss : 0.54 | Test Loss :  0.59\n",
            "EPOCH 560 <--> Training Loss : 0.54 | Test Loss :  0.59\n",
            "EPOCH 570 <--> Training Loss : 0.54 | Test Loss :  0.59\n",
            "EPOCH 580 <--> Training Loss : 0.54 | Test Loss :  0.59\n",
            "EPOCH 590 <--> Training Loss : 0.54 | Test Loss :  0.59\n",
            "EPOCH 600 <--> Training Loss : 0.54 | Test Loss :  0.59\n",
            "EPOCH 610 <--> Training Loss : 0.54 | Test Loss :  0.59\n",
            "EPOCH 620 <--> Training Loss : 0.54 | Test Loss :  0.59\n",
            "EPOCH 630 <--> Training Loss : 0.54 | Test Loss :  0.59\n",
            "EPOCH 640 <--> Training Loss : 0.54 | Test Loss :  0.59\n",
            "EPOCH 650 <--> Training Loss : 0.53 | Test Loss :  0.59\n",
            "EPOCH 660 <--> Training Loss : 0.53 | Test Loss :  0.59\n",
            "EPOCH 670 <--> Training Loss : 0.53 | Test Loss :  0.59\n",
            "EPOCH 680 <--> Training Loss : 0.53 | Test Loss :  0.59\n",
            "EPOCH 690 <--> Training Loss : 0.53 | Test Loss :  0.59\n",
            "EPOCH 700 <--> Training Loss : 0.53 | Test Loss :  0.59\n",
            "EPOCH 710 <--> Training Loss : 0.53 | Test Loss :  0.59\n",
            "EPOCH 720 <--> Training Loss : 0.53 | Test Loss :  0.58\n",
            "EPOCH 730 <--> Training Loss : 0.53 | Test Loss :  0.58\n",
            "EPOCH 740 <--> Training Loss : 0.53 | Test Loss :  0.58\n",
            "EPOCH 750 <--> Training Loss : 0.53 | Test Loss :  0.58\n",
            "EPOCH 760 <--> Training Loss : 0.53 | Test Loss :  0.58\n",
            "EPOCH 770 <--> Training Loss : 0.53 | Test Loss :  0.58\n",
            "EPOCH 780 <--> Training Loss : 0.53 | Test Loss :  0.58\n",
            "EPOCH 790 <--> Training Loss : 0.53 | Test Loss :  0.58\n",
            "EPOCH 800 <--> Training Loss : 0.53 | Test Loss :  0.58\n",
            "EPOCH 810 <--> Training Loss : 0.53 | Test Loss :  0.58\n",
            "EPOCH 820 <--> Training Loss : 0.53 | Test Loss :  0.58\n",
            "EPOCH 830 <--> Training Loss : 0.53 | Test Loss :  0.58\n",
            "EPOCH 840 <--> Training Loss : 0.53 | Test Loss :  0.58\n",
            "EPOCH 850 <--> Training Loss : 0.53 | Test Loss :  0.58\n",
            "EPOCH 860 <--> Training Loss : 0.53 | Test Loss :  0.58\n",
            "EPOCH 870 <--> Training Loss : 0.53 | Test Loss :  0.58\n",
            "EPOCH 880 <--> Training Loss : 0.53 | Test Loss :  0.58\n",
            "EPOCH 890 <--> Training Loss : 0.53 | Test Loss :  0.58\n",
            "EPOCH 900 <--> Training Loss : 0.53 | Test Loss :  0.58\n",
            "EPOCH 910 <--> Training Loss : 0.53 | Test Loss :  0.58\n",
            "EPOCH 920 <--> Training Loss : 0.53 | Test Loss :  0.58\n",
            "EPOCH 930 <--> Training Loss : 0.53 | Test Loss :  0.58\n",
            "EPOCH 940 <--> Training Loss : 0.53 | Test Loss :  0.58\n",
            "EPOCH 950 <--> Training Loss : 0.53 | Test Loss :  0.58\n",
            "EPOCH 960 <--> Training Loss : 0.53 | Test Loss :  0.58\n",
            "EPOCH 970 <--> Training Loss : 0.53 | Test Loss :  0.58\n",
            "EPOCH 980 <--> Training Loss : 0.53 | Test Loss :  0.58\n",
            "EPOCH 990 <--> Training Loss : 0.53 | Test Loss :  0.58\n"
          ]
        }
      ]
    },
    {
      "cell_type": "markdown",
      "source": [
        "## Testing"
      ],
      "metadata": {
        "id": "YsjVqUbXQnUM"
      }
    },
    {
      "cell_type": "code",
      "source": [
        "# Set model to evaluation mode:\n",
        "linear_regression_model.eval()\n",
        "\n",
        "with torch.inference_mode():\n",
        "  test_y_predicted = linear_regression_model(X_test)\n",
        "\n",
        "  test_loss = loss_function(test_y_predicted, y_test)\n",
        "\n",
        "  print(f\"Test Loss : {test_loss}\")"
      ],
      "metadata": {
        "colab": {
          "base_uri": "https://localhost:8080/"
        },
        "id": "z8DJsqxdQp4t",
        "outputId": "92685a5e-7dd3-44b1-e2f6-fbe83c378983"
      },
      "execution_count": null,
      "outputs": [
        {
          "output_type": "stream",
          "name": "stdout",
          "text": [
            "Test Loss : 0.575282633304596\n"
          ]
        }
      ]
    },
    {
      "cell_type": "markdown",
      "source": [
        "Lets try making a prediction using one of the rows of our dataset and verifying the result with the actual output value."
      ],
      "metadata": {
        "id": "sm45tC2RSx9v"
      }
    },
    {
      "cell_type": "code",
      "source": [
        "sample_row = 0\n",
        "\n",
        "linear_regression_model.eval()\n",
        "\n",
        "with torch.inference_mode():\n",
        "  predicted = linear_regression_model(X_test[sample_row])\n",
        "\n",
        "predicted"
      ],
      "metadata": {
        "colab": {
          "base_uri": "https://localhost:8080/"
        },
        "id": "ZDzc2tnCS6zI",
        "outputId": "c2be2961-cf0d-4ea8-8ce5-7151f8de0e8f"
      },
      "execution_count": null,
      "outputs": [
        {
          "output_type": "execute_result",
          "data": {
            "text/plain": [
              "tensor([5.6471])"
            ]
          },
          "metadata": {},
          "execution_count": 521
        }
      ]
    },
    {
      "cell_type": "code",
      "source": [
        "actual = y_test[sample_row]\n",
        "actual"
      ],
      "metadata": {
        "colab": {
          "base_uri": "https://localhost:8080/"
        },
        "id": "cPDx5ljOTI8a",
        "outputId": "b03619f3-6e6d-4f2b-d905-2504f5580e0e"
      },
      "execution_count": null,
      "outputs": [
        {
          "output_type": "execute_result",
          "data": {
            "text/plain": [
              "tensor([6.])"
            ]
          },
          "metadata": {},
          "execution_count": 522
        }
      ]
    },
    {
      "cell_type": "markdown",
      "source": [
        "---\n",
        "# Classification Model\n",
        "\n",
        "**RESOURCE : https://youtu.be/V_xro1bcAuA?si=IXahW95cTOjlXz1Q&t=46662**"
      ],
      "metadata": {
        "id": "9VJnkE47xsIO"
      }
    },
    {
      "cell_type": "markdown",
      "source": [
        "## Visualization of the wine classes\n",
        "\n",
        "*Change `FEATURE_NUM` to visualize the data according to one of the 11 features in the dataset.*"
      ],
      "metadata": {
        "id": "Z_HiChHWKSJK"
      }
    },
    {
      "cell_type": "code",
      "source": [
        "import matplotlib.pyplot as plt\n",
        "\n",
        "# Features (0 - 10)\n",
        "FEATURE_NUM = 0\n",
        "\n",
        "plt.figure(figsize=(8, 5))\n",
        "plt.scatter(X[:, FEATURE_NUM], y, c=y, cmap=plt.cm.RdYlBu)"
      ],
      "metadata": {
        "colab": {
          "base_uri": "https://localhost:8080/",
          "height": 462
        },
        "id": "Fl0JBNunJX-R",
        "outputId": "227c2d2a-b544-4c61-c791-bcea6715e2b6"
      },
      "execution_count": null,
      "outputs": [
        {
          "output_type": "execute_result",
          "data": {
            "text/plain": [
              "<matplotlib.collections.PathCollection at 0x78d89d3747c0>"
            ]
          },
          "metadata": {},
          "execution_count": 523
        },
        {
          "output_type": "display_data",
          "data": {
            "text/plain": [
              "<Figure size 800x500 with 1 Axes>"
            ],
            "image/png": "[encoded data removed]"
          },
          "metadata": {}
        }
      ]
    },
    {
      "cell_type": "markdown",
      "source": [
        "**ERROR FIX FOR LATER**\n",
        "\n",
        "Modify the class labels to start at 0 instead of 3... this will fix an error in the loss function.\n",
        "\n",
        "In our new class labels tensor:\n",
        "* 0 = quality of 3\n",
        "* 1 = quality of 4\n",
        "* 2 = quality of 5\n",
        "* 3 = quality of 6\n",
        "* 4 = quality of 7\n",
        "* 5 = quality of 8"
      ],
      "metadata": {
        "id": "VDmO0FvYPifI"
      }
    },
    {
      "cell_type": "code",
      "source": [
        "y"
      ],
      "metadata": {
        "colab": {
          "base_uri": "https://localhost:8080/"
        },
        "id": "1SN2ZToPPh2z",
        "outputId": "7fb0b262-967e-4719-c643-6324a2935eda"
      },
      "execution_count": null,
      "outputs": [
        {
          "output_type": "execute_result",
          "data": {
            "text/plain": [
              "tensor([[5.],\n",
              "        [5.],\n",
              "        [5.],\n",
              "        ...,\n",
              "        [6.],\n",
              "        [5.],\n",
              "        [6.]])"
            ]
          },
          "metadata": {},
          "execution_count": 524
        }
      ]
    },
    {
      "cell_type": "code",
      "source": [
        "y.unique()"
      ],
      "metadata": {
        "colab": {
          "base_uri": "https://localhost:8080/"
        },
        "id": "N5ajgIuGQVhL",
        "outputId": "571fa5dc-2c06-425d-c13a-45f99dc7fd9f"
      },
      "execution_count": null,
      "outputs": [
        {
          "output_type": "execute_result",
          "data": {
            "text/plain": [
              "tensor([3., 4., 5., 6., 7., 8.])"
            ]
          },
          "metadata": {},
          "execution_count": 525
        }
      ]
    },
    {
      "cell_type": "code",
      "source": [
        "starting_class_num = 3\n",
        "y = y - starting_class_num\n",
        "y"
      ],
      "metadata": {
        "colab": {
          "base_uri": "https://localhost:8080/"
        },
        "id": "DFwM4JsaQN94",
        "outputId": "9b519d38-28df-466f-cdbe-f67e6b0d4bac"
      },
      "execution_count": null,
      "outputs": [
        {
          "output_type": "execute_result",
          "data": {
            "text/plain": [
              "tensor([[2.],\n",
              "        [2.],\n",
              "        [2.],\n",
              "        ...,\n",
              "        [3.],\n",
              "        [2.],\n",
              "        [3.]])"
            ]
          },
          "metadata": {},
          "execution_count": 526
        }
      ]
    },
    {
      "cell_type": "code",
      "source": [
        "y.unique()"
      ],
      "metadata": {
        "colab": {
          "base_uri": "https://localhost:8080/"
        },
        "id": "Bc1z0fr1QSQG",
        "outputId": "6bcb3c2d-bd99-4d90-d444-d72948d61ca7"
      },
      "execution_count": null,
      "outputs": [
        {
          "output_type": "execute_result",
          "data": {
            "text/plain": [
              "tensor([0., 1., 2., 3., 4., 5.])"
            ]
          },
          "metadata": {},
          "execution_count": 527
        }
      ]
    },
    {
      "cell_type": "markdown",
      "source": [
        "## Building our Classification Model"
      ],
      "metadata": {
        "id": "wzir84hpnRgz"
      }
    },
    {
      "cell_type": "code",
      "source": [
        "import torch\n",
        "\n",
        "class ClassifierModel(nn.Module):\n",
        "  def __init__(self, input_features:int, output_features:int):\n",
        "    super().__init__()\n",
        "    self.linear = nn.Linear(in_features=input_features, out_features=output_features)\n",
        "\n",
        "  def forward(self, X:torch.Tensor):\n",
        "    return self.linear(X)\n"
      ],
      "metadata": {
        "id": "mbur88olLuoh"
      },
      "execution_count": null,
      "outputs": []
    },
    {
      "cell_type": "code",
      "source": [
        "in_features = X.shape[1]\n",
        "in_features"
      ],
      "metadata": {
        "colab": {
          "base_uri": "https://localhost:8080/"
        },
        "id": "eOsCjQIkqjtT",
        "outputId": "6545a0cd-25e1-4749-f17f-9d3dc9488fc8"
      },
      "execution_count": null,
      "outputs": [
        {
          "output_type": "execute_result",
          "data": {
            "text/plain": [
              "11"
            ]
          },
          "metadata": {},
          "execution_count": 529
        }
      ]
    },
    {
      "cell_type": "code",
      "source": [
        "import torch\n",
        "class_labels  = torch.unique(y)\n",
        "\n",
        "out_features = len(class_labels)\n",
        "\n",
        "print(class_labels)\n",
        "print(out_features)"
      ],
      "metadata": {
        "colab": {
          "base_uri": "https://localhost:8080/"
        },
        "id": "bOAOiP6YNl2u",
        "outputId": "dc755b80-8ce9-4382-fcbb-1d15050260a5"
      },
      "execution_count": null,
      "outputs": [
        {
          "output_type": "stream",
          "name": "stdout",
          "text": [
            "tensor([0., 1., 2., 3., 4., 5.])\n",
            "6\n"
          ]
        }
      ]
    },
    {
      "cell_type": "code",
      "source": [
        "classifier_model = ClassifierModel(\n",
        "    input_features=in_features,\n",
        "    output_features=out_features,\n",
        ")\n",
        "\n",
        "classifier_model.state_dict()"
      ],
      "metadata": {
        "colab": {
          "base_uri": "https://localhost:8080/"
        },
        "id": "KtGQeb3YqQWT",
        "outputId": "66741d20-45ba-4b23-ce33-3b371eabf800"
      },
      "execution_count": null,
      "outputs": [
        {
          "output_type": "execute_result",
          "data": {
            "text/plain": [
              "OrderedDict([('linear.weight',\n",
              "              tensor([[-0.1918,  0.1379, -0.0799,  0.1015, -0.1292, -0.1074,  0.0310,  0.2530,\n",
              "                        0.0820, -0.1740,  0.0203],\n",
              "                      [ 0.2174,  0.0103,  0.1980, -0.2922, -0.0717, -0.0843, -0.1432,  0.0680,\n",
              "                       -0.1011, -0.0433, -0.0991],\n",
              "                      [-0.0509, -0.2617, -0.2113,  0.0645, -0.2467, -0.1609,  0.1530, -0.1498,\n",
              "                       -0.0330, -0.0341, -0.0835],\n",
              "                      [ 0.2264,  0.2311, -0.2536, -0.2923,  0.0258, -0.0335,  0.1537, -0.0423,\n",
              "                       -0.1368,  0.0368,  0.1507],\n",
              "                      [ 0.0040, -0.1227,  0.1311, -0.0840,  0.1431,  0.2948, -0.2941, -0.0879,\n",
              "                       -0.2240, -0.2613,  0.2262],\n",
              "                      [ 0.1313, -0.0171,  0.0935,  0.2221, -0.0427,  0.0661, -0.1821,  0.0296,\n",
              "                       -0.0278, -0.0585,  0.0478]])),\n",
              "             ('linear.bias',\n",
              "              tensor([-0.0074,  0.0817,  0.1287, -0.0475,  0.1584, -0.1909]))])"
            ]
          },
          "metadata": {},
          "execution_count": 531
        }
      ]
    },
    {
      "cell_type": "markdown",
      "source": [
        "## Choosing our Loss Function\n",
        "\n",
        "`nn.CrossEntropyLoss()` for multi-class classification problems is chosen based on the following resource : https://www.learnpytorch.io/02_pytorch_classification/#21-setup-loss-function-and-optimizer"
      ],
      "metadata": {
        "id": "EWQPT_y6BSCx"
      }
    },
    {
      "cell_type": "code",
      "source": [
        "from torch import nn\n",
        "\n",
        "classifier_loss_function = nn.CrossEntropyLoss()"
      ],
      "metadata": {
        "id": "UOcZOD5E-sUn"
      },
      "execution_count": null,
      "outputs": []
    },
    {
      "cell_type": "markdown",
      "source": [
        "## Choosing our Optimizer\n",
        "\n",
        "`torch.optim.SGD()` is chosen for our classification problem based on the following resource : https://youtu.be/V_xro1bcAuA?si=f8gLjybpsDM7kxQZ&t=35834"
      ],
      "metadata": {
        "id": "fvVDrL6XDRmM"
      }
    },
    {
      "cell_type": "code",
      "source": [
        "import torch\n",
        "\n",
        "learning_rate = 0.001\n",
        "\n",
        "classifier_optimizer = torch.optim.SGD(\n",
        "    params=classifier_model.parameters(),\n",
        "    lr=learning_rate\n",
        ")"
      ],
      "metadata": {
        "id": "sTxeTZJWDkUv"
      },
      "execution_count": null,
      "outputs": []
    },
    {
      "cell_type": "markdown",
      "source": [
        "## Checking our model's outputs"
      ],
      "metadata": {
        "id": "7osnQG0FRWhl"
      }
    },
    {
      "cell_type": "code",
      "source": [
        "from sklearn.model_selection import train_test_split\n",
        "\n",
        "X_train, X_test, y_train, y_test = train_test_split(X, y)"
      ],
      "metadata": {
        "id": "pNeATnZyRgul"
      },
      "execution_count": null,
      "outputs": []
    },
    {
      "cell_type": "code",
      "source": [
        "classifier_model.eval()\n",
        "with torch.inference_mode():\n",
        "  y_prediction_logits = classifier_model(X_train)\n",
        "y_prediction_logits"
      ],
      "metadata": {
        "colab": {
          "base_uri": "https://localhost:8080/"
        },
        "id": "B-8C5-YKQYRE",
        "outputId": "ededba17-87d1-433b-a162-3c492ec4d086"
      },
      "execution_count": null,
      "outputs": [
        {
          "output_type": "execute_result",
          "data": {
            "text/plain": [
              "tensor([[ -0.1940,  -7.6071,   3.5259,   8.4745,  -8.4012,  -5.7286],\n",
              "        [ -0.6518,  -2.2162,  -0.5675,   3.5779,  -0.3977,   0.7639],\n",
              "        [ -1.9626, -10.5030,   2.0842,   9.0895,  -5.8192,  -5.8883],\n",
              "        ...,\n",
              "        [ -1.4719,  -8.9467,   1.6367,   8.0392,  -4.9228,  -5.2005],\n",
              "        [ -0.8466,  -7.0836,   1.8549,   7.1286,  -5.0845,  -3.9635],\n",
              "        [ -2.1779,  -3.2823,  -1.0047,   5.3729,  -0.0453,  -0.3480]])"
            ]
          },
          "metadata": {},
          "execution_count": 535
        }
      ]
    },
    {
      "cell_type": "markdown",
      "source": [
        "Notice that our model outputs numbers of all ranges... these are called **logits**.\n",
        "\n",
        "Instead, we want to convert these numbers into probability values (numbers should range from 0 to 1 ONLY)."
      ],
      "metadata": {
        "id": "m7RnsYPORrhN"
      }
    },
    {
      "cell_type": "markdown",
      "source": [
        "## Converting from Logits to Probability Values\n",
        "\n",
        "Convert using `torch.softmax()` for multi-class classification problems."
      ],
      "metadata": {
        "id": "LIvWoly5SZFm"
      }
    },
    {
      "cell_type": "code",
      "source": [
        "y_prediction_probabilities = torch.softmax(y_prediction_logits, dim=1)\n",
        "\n",
        "y_prediction_probabilities[0]"
      ],
      "metadata": {
        "colab": {
          "base_uri": "https://localhost:8080/"
        },
        "id": "Z3cEU2udSckm",
        "outputId": "e9f00820-bdef-4b5a-ca7c-042c2fa01cb5"
      },
      "execution_count": null,
      "outputs": [
        {
          "output_type": "execute_result",
          "data": {
            "text/plain": [
              "tensor([1.7069e-04, 1.0297e-07, 7.0423e-03, 9.9279e-01, 4.6540e-08, 6.7381e-07])"
            ]
          },
          "metadata": {},
          "execution_count": 536
        }
      ]
    },
    {
      "cell_type": "code",
      "source": [
        "# Notice that now, each data sample (row) sums up to 1.\n",
        "# This indicates that our values were converted into probability values correctly.\n",
        "\n",
        "torch.sum(y_prediction_probabilities[0])"
      ],
      "metadata": {
        "colab": {
          "base_uri": "https://localhost:8080/"
        },
        "id": "jLoL9c8jUI5W",
        "outputId": "1e520e59-60e1-44ba-a88e-095e2a78cd55"
      },
      "execution_count": null,
      "outputs": [
        {
          "output_type": "execute_result",
          "data": {
            "text/plain": [
              "tensor(1.)"
            ]
          },
          "metadata": {},
          "execution_count": 537
        }
      ]
    },
    {
      "cell_type": "markdown",
      "source": [
        "## Use the probability values to predict the class label using `argmax`."
      ],
      "metadata": {
        "id": "zA-yMtibWDoN"
      }
    },
    {
      "cell_type": "code",
      "source": [
        "y_prediction = torch.argmax(y_prediction_probabilities[0])\n",
        "y_prediction"
      ],
      "metadata": {
        "colab": {
          "base_uri": "https://localhost:8080/"
        },
        "id": "UjwuyVEvWMC-",
        "outputId": "1d01bdc3-ade5-431d-8853-b4ce072f140c"
      },
      "execution_count": null,
      "outputs": [
        {
          "output_type": "execute_result",
          "data": {
            "text/plain": [
              "tensor(3)"
            ]
          },
          "metadata": {},
          "execution_count": 538
        }
      ]
    },
    {
      "cell_type": "markdown",
      "source": [
        "## Evaluation Function"
      ],
      "metadata": {
        "id": "dPJZX9uvFbmG"
      }
    },
    {
      "cell_type": "code",
      "source": [
        "def evaluate(y_actual: torch.tensor, y_pred: torch.tensor) -> int:\n",
        "  correct_predictions = torch.eq(y_actual, y_pred).sum()\n",
        "  num_correct : int = correct_predictions.item()\n",
        "\n",
        "  num_predictions : int = len(y_predicted)\n",
        "\n",
        "  score = (num_correct / num_predictions) * 100\n",
        "\n",
        "  return score"
      ],
      "metadata": {
        "id": "P27A7NzgFgOi"
      },
      "execution_count": null,
      "outputs": []
    },
    {
      "cell_type": "markdown",
      "source": [
        "## Training our model"
      ],
      "metadata": {
        "id": "3dFcm-rOG77V"
      }
    },
    {
      "cell_type": "code",
      "source": [
        "torch.manual_seed(90)\n",
        "\n",
        "epochs = 1000\n",
        "\n",
        "for epoch in range(epochs):\n",
        "  classifier_model.train()\n",
        "\n",
        "  y_prediction_logits = classifier_model(X_train)\n",
        "  y_prediction_probabilities = torch.softmax(y_prediction_logits, dim=1)\n",
        "  y_prediction = y_prediction_probabilities.argmax(dim=1)\n",
        "\n",
        "  # ---------\n",
        "  # ERROR FIX - convert to float with .float()\n",
        "  # ERROR FIX - squeeze shape of y_train and convert to Long for loss function\n",
        "  # ---------\n",
        "  y_train = y_train.squeeze().long()\n",
        "  # ----------\n",
        "\n",
        "  loss = classifier_loss_function(y_prediction_logits, y_train)\n",
        "\n",
        "  # Score is evaluated between the class predictions and the actual class labels.\n",
        "  score = evaluate(y_actual=y_train, y_pred=y_prediction)\n",
        "\n",
        "  classifier_optimizer.zero_grad()\n",
        "\n",
        "  loss.backward()\n",
        "\n",
        "  classifier_optimizer.step()\n",
        "\n",
        "  classifier_model.eval()\n",
        "  with torch.inference_mode():\n",
        "    y_prediction_logits_test = classifier_model(X_test)\n",
        "    y_prediction_probabilities_test = torch.softmax(\n",
        "        y_prediction_logits_test,\n",
        "        dim=1\n",
        "    )\n",
        "\n",
        "    y_prediction_test = y_prediction_probabilities_test.argmax(dim=1)\n",
        "\n",
        "    y_test = y_test.squeeze().long()\n",
        "\n",
        "    loss_test = classifier_loss_function(y_prediction_logits_test, y_test)\n",
        "\n",
        "    score_test = evaluate(y_actual=y_test, y_pred=y_prediction_test)\n",
        "\n",
        "  if epoch % 10 == 0:\n",
        "    print(f\"Epoch: {epoch} <-> Training Loss: {loss: .2f} | Training Score: {score: .2f}% | Test Loss: {loss_test: .2f} | Test Score: {score_test: .2f}%\")"
      ],
      "metadata": {
        "colab": {
          "base_uri": "https://localhost:8080/"
        },
        "id": "d_vQVn5Sp9S9",
        "outputId": "403d40b4-c5b7-4f21-faf7-96601e491054"
      },
      "execution_count": null,
      "outputs": [
        {
          "output_type": "stream",
          "name": "stdout",
          "text": [
            "Epoch: 0 <-> Training Loss:  4.53 | Training Score:  40.45% | Test Loss:  3.16 | Test Score:  14.10%\n",
            "Epoch: 10 <-> Training Loss:  2.10 | Training Score:  50.88% | Test Loss:  2.17 | Test Score:  16.18%\n",
            "Epoch: 20 <-> Training Loss:  1.80 | Training Score:  48.62% | Test Loss:  1.83 | Test Score:  15.93%\n",
            "Epoch: 30 <-> Training Loss:  1.70 | Training Score:  47.37% | Test Loss:  1.71 | Test Score:  15.60%\n",
            "Epoch: 40 <-> Training Loss:  1.65 | Training Score:  46.29% | Test Loss:  1.64 | Test Score:  15.85%\n",
            "Epoch: 50 <-> Training Loss:  1.60 | Training Score:  46.12% | Test Loss:  1.59 | Test Score:  15.76%\n",
            "Epoch: 60 <-> Training Loss:  1.56 | Training Score:  46.04% | Test Loss:  1.55 | Test Score:  15.60%\n",
            "Epoch: 70 <-> Training Loss:  1.53 | Training Score:  45.62% | Test Loss:  1.52 | Test Score:  15.35%\n",
            "Epoch: 80 <-> Training Loss:  1.50 | Training Score:  45.79% | Test Loss:  1.49 | Test Score:  15.18%\n",
            "Epoch: 90 <-> Training Loss:  1.48 | Training Score:  45.54% | Test Loss:  1.47 | Test Score:  15.18%\n",
            "Epoch: 100 <-> Training Loss:  1.46 | Training Score:  45.20% | Test Loss:  1.44 | Test Score:  15.18%\n",
            "Epoch: 110 <-> Training Loss:  1.44 | Training Score:  45.29% | Test Loss:  1.43 | Test Score:  15.01%\n",
            "Epoch: 120 <-> Training Loss:  1.43 | Training Score:  45.29% | Test Loss:  1.41 | Test Score:  14.93%\n",
            "Epoch: 130 <-> Training Loss:  1.41 | Training Score:  45.70% | Test Loss:  1.40 | Test Score:  14.93%\n",
            "Epoch: 140 <-> Training Loss:  1.40 | Training Score:  45.95% | Test Loss:  1.39 | Test Score:  15.01%\n",
            "Epoch: 150 <-> Training Loss:  1.39 | Training Score:  45.95% | Test Loss:  1.37 | Test Score:  15.01%\n",
            "Epoch: 160 <-> Training Loss:  1.38 | Training Score:  46.12% | Test Loss:  1.36 | Test Score:  15.01%\n",
            "Epoch: 170 <-> Training Loss:  1.37 | Training Score:  46.29% | Test Loss:  1.35 | Test Score:  14.93%\n",
            "Epoch: 180 <-> Training Loss:  1.36 | Training Score:  46.46% | Test Loss:  1.34 | Test Score:  14.93%\n",
            "Epoch: 190 <-> Training Loss:  1.35 | Training Score:  46.54% | Test Loss:  1.33 | Test Score:  14.93%\n",
            "Epoch: 200 <-> Training Loss:  1.34 | Training Score:  46.54% | Test Loss:  1.32 | Test Score:  14.93%\n",
            "Epoch: 210 <-> Training Loss:  1.33 | Training Score:  46.96% | Test Loss:  1.31 | Test Score:  14.85%\n",
            "Epoch: 220 <-> Training Loss:  1.32 | Training Score:  47.46% | Test Loss:  1.30 | Test Score:  15.01%\n",
            "Epoch: 230 <-> Training Loss:  1.31 | Training Score:  47.21% | Test Loss:  1.29 | Test Score:  14.93%\n",
            "Epoch: 240 <-> Training Loss:  1.30 | Training Score:  47.37% | Test Loss:  1.28 | Test Score:  15.18%\n",
            "Epoch: 250 <-> Training Loss:  1.29 | Training Score:  47.87% | Test Loss:  1.28 | Test Score:  15.10%\n",
            "Epoch: 260 <-> Training Loss:  1.29 | Training Score:  48.04% | Test Loss:  1.27 | Test Score:  15.10%\n",
            "Epoch: 270 <-> Training Loss:  1.28 | Training Score:  48.12% | Test Loss:  1.26 | Test Score:  15.26%\n",
            "Epoch: 280 <-> Training Loss:  1.27 | Training Score:  48.29% | Test Loss:  1.25 | Test Score:  15.10%\n",
            "Epoch: 290 <-> Training Loss:  1.27 | Training Score:  48.46% | Test Loss:  1.25 | Test Score:  15.10%\n",
            "Epoch: 300 <-> Training Loss:  1.26 | Training Score:  48.54% | Test Loss:  1.24 | Test Score:  15.10%\n",
            "Epoch: 310 <-> Training Loss:  1.25 | Training Score:  48.62% | Test Loss:  1.23 | Test Score:  15.10%\n",
            "Epoch: 320 <-> Training Loss:  1.25 | Training Score:  48.54% | Test Loss:  1.23 | Test Score:  15.01%\n",
            "Epoch: 330 <-> Training Loss:  1.24 | Training Score:  48.79% | Test Loss:  1.22 | Test Score:  15.18%\n",
            "Epoch: 340 <-> Training Loss:  1.23 | Training Score:  48.62% | Test Loss:  1.22 | Test Score:  15.10%\n",
            "Epoch: 350 <-> Training Loss:  1.23 | Training Score:  48.54% | Test Loss:  1.21 | Test Score:  15.26%\n",
            "Epoch: 360 <-> Training Loss:  1.22 | Training Score:  48.71% | Test Loss:  1.21 | Test Score:  15.18%\n",
            "Epoch: 370 <-> Training Loss:  1.22 | Training Score:  48.87% | Test Loss:  1.20 | Test Score:  15.18%\n",
            "Epoch: 380 <-> Training Loss:  1.22 | Training Score:  49.04% | Test Loss:  1.20 | Test Score:  15.18%\n",
            "Epoch: 390 <-> Training Loss:  1.21 | Training Score:  49.29% | Test Loss:  1.19 | Test Score:  15.26%\n",
            "Epoch: 400 <-> Training Loss:  1.21 | Training Score:  49.21% | Test Loss:  1.19 | Test Score:  15.43%\n",
            "Epoch: 410 <-> Training Loss:  1.20 | Training Score:  49.37% | Test Loss:  1.18 | Test Score:  15.60%\n",
            "Epoch: 420 <-> Training Loss:  1.20 | Training Score:  49.46% | Test Loss:  1.18 | Test Score:  15.43%\n",
            "Epoch: 430 <-> Training Loss:  1.20 | Training Score:  49.71% | Test Loss:  1.18 | Test Score:  15.60%\n",
            "Epoch: 440 <-> Training Loss:  1.19 | Training Score:  49.46% | Test Loss:  1.18 | Test Score:  15.68%\n",
            "Epoch: 450 <-> Training Loss:  1.19 | Training Score:  49.96% | Test Loss:  1.17 | Test Score:  15.68%\n",
            "Epoch: 460 <-> Training Loss:  1.19 | Training Score:  49.96% | Test Loss:  1.17 | Test Score:  15.68%\n",
            "Epoch: 470 <-> Training Loss:  1.18 | Training Score:  50.29% | Test Loss:  1.17 | Test Score:  15.68%\n",
            "Epoch: 480 <-> Training Loss:  1.18 | Training Score:  50.21% | Test Loss:  1.17 | Test Score:  15.76%\n",
            "Epoch: 490 <-> Training Loss:  1.18 | Training Score:  50.21% | Test Loss:  1.16 | Test Score:  15.76%\n",
            "Epoch: 500 <-> Training Loss:  1.18 | Training Score:  50.38% | Test Loss:  1.16 | Test Score:  15.76%\n",
            "Epoch: 510 <-> Training Loss:  1.17 | Training Score:  50.54% | Test Loss:  1.16 | Test Score:  15.76%\n",
            "Epoch: 520 <-> Training Loss:  1.17 | Training Score:  50.54% | Test Loss:  1.16 | Test Score:  15.76%\n",
            "Epoch: 530 <-> Training Loss:  1.17 | Training Score:  50.71% | Test Loss:  1.16 | Test Score:  15.76%\n",
            "Epoch: 540 <-> Training Loss:  1.17 | Training Score:  50.54% | Test Loss:  1.16 | Test Score:  15.76%\n",
            "Epoch: 550 <-> Training Loss:  1.17 | Training Score:  50.63% | Test Loss:  1.15 | Test Score:  15.76%\n",
            "Epoch: 560 <-> Training Loss:  1.17 | Training Score:  50.46% | Test Loss:  1.15 | Test Score:  15.68%\n",
            "Epoch: 570 <-> Training Loss:  1.16 | Training Score:  50.46% | Test Loss:  1.15 | Test Score:  15.68%\n",
            "Epoch: 580 <-> Training Loss:  1.16 | Training Score:  50.38% | Test Loss:  1.15 | Test Score:  15.68%\n",
            "Epoch: 590 <-> Training Loss:  1.16 | Training Score:  50.38% | Test Loss:  1.15 | Test Score:  15.68%\n",
            "Epoch: 600 <-> Training Loss:  1.16 | Training Score:  50.38% | Test Loss:  1.15 | Test Score:  15.60%\n",
            "Epoch: 610 <-> Training Loss:  1.16 | Training Score:  50.54% | Test Loss:  1.15 | Test Score:  15.60%\n",
            "Epoch: 620 <-> Training Loss:  1.16 | Training Score:  50.46% | Test Loss:  1.15 | Test Score:  15.68%\n",
            "Epoch: 630 <-> Training Loss:  1.16 | Training Score:  50.46% | Test Loss:  1.15 | Test Score:  15.68%\n",
            "Epoch: 640 <-> Training Loss:  1.16 | Training Score:  50.46% | Test Loss:  1.15 | Test Score:  15.68%\n",
            "Epoch: 650 <-> Training Loss:  1.16 | Training Score:  50.38% | Test Loss:  1.15 | Test Score:  15.68%\n",
            "Epoch: 660 <-> Training Loss:  1.16 | Training Score:  50.21% | Test Loss:  1.15 | Test Score:  15.68%\n",
            "Epoch: 670 <-> Training Loss:  1.15 | Training Score:  50.21% | Test Loss:  1.15 | Test Score:  15.68%\n",
            "Epoch: 680 <-> Training Loss:  1.15 | Training Score:  50.21% | Test Loss:  1.15 | Test Score:  15.76%\n",
            "Epoch: 690 <-> Training Loss:  1.15 | Training Score:  50.29% | Test Loss:  1.15 | Test Score:  15.76%\n",
            "Epoch: 700 <-> Training Loss:  1.15 | Training Score:  50.29% | Test Loss:  1.15 | Test Score:  15.93%\n",
            "Epoch: 710 <-> Training Loss:  1.15 | Training Score:  50.46% | Test Loss:  1.15 | Test Score:  15.93%\n",
            "Epoch: 720 <-> Training Loss:  1.15 | Training Score:  50.29% | Test Loss:  1.14 | Test Score:  15.93%\n",
            "Epoch: 730 <-> Training Loss:  1.15 | Training Score:  50.29% | Test Loss:  1.14 | Test Score:  15.93%\n",
            "Epoch: 740 <-> Training Loss:  1.15 | Training Score:  50.46% | Test Loss:  1.14 | Test Score:  15.93%\n",
            "Epoch: 750 <-> Training Loss:  1.15 | Training Score:  50.54% | Test Loss:  1.14 | Test Score:  15.93%\n",
            "Epoch: 760 <-> Training Loss:  1.15 | Training Score:  50.46% | Test Loss:  1.14 | Test Score:  15.93%\n",
            "Epoch: 770 <-> Training Loss:  1.15 | Training Score:  50.46% | Test Loss:  1.14 | Test Score:  15.93%\n",
            "Epoch: 780 <-> Training Loss:  1.15 | Training Score:  50.46% | Test Loss:  1.14 | Test Score:  15.93%\n",
            "Epoch: 790 <-> Training Loss:  1.15 | Training Score:  50.46% | Test Loss:  1.14 | Test Score:  15.93%\n",
            "Epoch: 800 <-> Training Loss:  1.15 | Training Score:  50.46% | Test Loss:  1.14 | Test Score:  15.93%\n",
            "Epoch: 810 <-> Training Loss:  1.15 | Training Score:  50.46% | Test Loss:  1.14 | Test Score:  15.93%\n",
            "Epoch: 820 <-> Training Loss:  1.15 | Training Score:  50.46% | Test Loss:  1.14 | Test Score:  15.93%\n",
            "Epoch: 830 <-> Training Loss:  1.15 | Training Score:  50.63% | Test Loss:  1.14 | Test Score:  15.93%\n",
            "Epoch: 840 <-> Training Loss:  1.15 | Training Score:  50.54% | Test Loss:  1.14 | Test Score:  15.93%\n",
            "Epoch: 850 <-> Training Loss:  1.14 | Training Score:  50.46% | Test Loss:  1.14 | Test Score:  15.85%\n",
            "Epoch: 860 <-> Training Loss:  1.14 | Training Score:  50.38% | Test Loss:  1.14 | Test Score:  15.85%\n",
            "Epoch: 870 <-> Training Loss:  1.14 | Training Score:  50.38% | Test Loss:  1.14 | Test Score:  15.76%\n",
            "Epoch: 880 <-> Training Loss:  1.14 | Training Score:  50.38% | Test Loss:  1.14 | Test Score:  15.76%\n",
            "Epoch: 890 <-> Training Loss:  1.14 | Training Score:  50.38% | Test Loss:  1.14 | Test Score:  15.76%\n",
            "Epoch: 900 <-> Training Loss:  1.14 | Training Score:  50.29% | Test Loss:  1.14 | Test Score:  15.76%\n",
            "Epoch: 910 <-> Training Loss:  1.14 | Training Score:  50.29% | Test Loss:  1.14 | Test Score:  15.76%\n",
            "Epoch: 920 <-> Training Loss:  1.14 | Training Score:  50.29% | Test Loss:  1.14 | Test Score:  15.76%\n",
            "Epoch: 930 <-> Training Loss:  1.14 | Training Score:  50.38% | Test Loss:  1.14 | Test Score:  15.76%\n",
            "Epoch: 940 <-> Training Loss:  1.14 | Training Score:  50.21% | Test Loss:  1.14 | Test Score:  15.68%\n",
            "Epoch: 950 <-> Training Loss:  1.14 | Training Score:  50.21% | Test Loss:  1.14 | Test Score:  15.68%\n",
            "Epoch: 960 <-> Training Loss:  1.14 | Training Score:  50.21% | Test Loss:  1.14 | Test Score:  15.68%\n",
            "Epoch: 970 <-> Training Loss:  1.14 | Training Score:  50.29% | Test Loss:  1.14 | Test Score:  15.68%\n",
            "Epoch: 980 <-> Training Loss:  1.14 | Training Score:  50.38% | Test Loss:  1.14 | Test Score:  15.76%\n",
            "Epoch: 990 <-> Training Loss:  1.14 | Training Score:  50.46% | Test Loss:  1.14 | Test Score:  15.76%\n"
          ]
        }
      ]
    }
  ]
}